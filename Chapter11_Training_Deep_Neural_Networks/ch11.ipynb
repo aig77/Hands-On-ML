{
 "cells": [
  {
   "cell_type": "markdown",
   "metadata": {},
   "source": [
    "# **Training Deep Neural Networks**"
   ]
  },
  {
   "cell_type": "code",
   "execution_count": null,
   "metadata": {},
   "outputs": [],
   "source": [
    "import tensorflow as tf\n",
    "from tensorflow import keras"
   ]
  },
  {
   "cell_type": "markdown",
   "metadata": {},
   "source": [
    "## The Vanishing/Exploding Gradients Problems"
   ]
  },
  {
   "cell_type": "markdown",
   "metadata": {},
   "source": [
    "Backpropagation works by going from the output layer to the input layer, propagating the error gradient along the way. After computing the gradient of the cost function with regard to each parameter in the network, it uses the gradients to update each parameter with a Gradient Descent step."
   ]
  },
  {
   "cell_type": "markdown",
   "metadata": {},
   "source": [
    "Gradients often get smaller as the algorithm progresses down to lower layers. As a result, the Gradient Descent update leabes the lower layers' connection weights virtually unchanged, and training never converges to a good solution. This is the *vanishing gradients* problem. "
   ]
  },
  {
   "cell_type": "markdown",
   "metadata": {},
   "source": [
    "In some cases, the opposite can happen: the gradients can grow bigger until layers get insanely large weight updates and the algorithm diverges. This is the *exploding gradients* problem (recurrent neural networks)."
   ]
  },
  {
   "cell_type": "markdown",
   "metadata": {},
   "source": [
    "Looking at logistic activation function, when inputs become large (negative or positive), the function saturates at 0 or 1, with a derivative extremely close to 0. Thus, when backpropagation kicks in it has virtually no gradient to propagate back through the network; and what little gradient exists keeps getting diluted as backpropagation progresses down through the top layers, so there is nothing left for the lower layers."
   ]
  },
  {
   "cell_type": "markdown",
   "metadata": {},
   "source": [
    "### Glorot and He Initialization"
   ]
  },
  {
   "cell_type": "markdown",
   "metadata": {},
   "source": [
    "Glorot and Bengio proposed that the signal needs to flow properly in both directions: in the foward direction when making predictions, and the reverse direction when backpropagating gradients. For the signal to flow properly, they argue that we need the variance of the outputs of each layer to be equal to the variance of its inputs, and we need the gradients to have equal variance before and after flowing througha layer in the reverse direction. It's not possible to gurantee both, so they proposed a compromise. Connection weights of each layer must be initialized randomly using:"
   ]
  },
  {
   "cell_type": "markdown",
   "metadata": {},
   "source": [
    "$fan_{avg} = (fan_{in} + fan_{out}) / 2$\n",
    "\n",
    "|Initialization|Activation Functions|$\\sigma^{2}$ (Normal)|\n",
    "|--------------|:-------------------|:-------------------|\n",
    "|Glorot |None, tanh, logistic, softmax| $1/fan_{avg}$|\n",
    "|He|ReLU and variants| $2/fan_{in}$|\n",
    "|LeCunn|SELU|$1/fan_{in}$|\n",
    "\n",
    "\n"
   ]
  },
  {
   "cell_type": "markdown",
   "metadata": {},
   "source": [
    "Replacing $fan_{avg}$ with $fan_{in}$ yields LeCunn initialization. LeCunn and Glorot initialization are equivalent when $fan_{in}$ = $fan_{out}$"
   ]
  },
  {
   "cell_type": "markdown",
   "metadata": {},
   "source": [
    "By default, Keras uses Glorot with a uniform distribution. Can be changed to He initialization:"
   ]
  },
  {
   "cell_type": "code",
   "execution_count": null,
   "metadata": {},
   "outputs": [],
   "source": [
    "keras.layers.Dense(10, activation=\"relu\", kernel_initializer=\"he_normal\")"
   ]
  },
  {
   "cell_type": "markdown",
   "metadata": {},
   "source": [
    "For He initialization with uniform dist but based on $fan_{avg}$ rather than $fan_{in}$, use `VarianceScaling`:"
   ]
  },
  {
   "cell_type": "code",
   "execution_count": null,
   "metadata": {},
   "outputs": [],
   "source": [
    "he_avg_init = keras.initializer.VarianceScaling(scale=2., mode='fan_avg', distribution='uniform')\n",
    "keras.layers.Dense(10, activation=\"sigmoid\", kernel_initializer=he_avg_init)"
   ]
  },
  {
   "cell_type": "markdown",
   "metadata": {},
   "source": [
    "### Nonsaturating Activation Functions"
   ]
  },
  {
   "cell_type": "markdown",
   "metadata": {},
   "source": [
    "Other activation functions (besides sigmoid) work better on Deep Networks. Especially ReLU."
   ]
  },
  {
   "cell_type": "markdown",
   "metadata": {},
   "source": [
    "ReLU isn't perfect though. It suffers from *dying ReLUs*: during training, some neurons \"die\" meaning they stop outputting anything other than 0. A neuron dies when its weights are tweaked in a way that the weighted sum of its inputs are negative for all instances in the training set. When this happens, it keeps outputting zeros, and Gradient Descent does not affect it anymore beacuse the gradient of ReLU is zero when its input is negative. "
   ]
  },
  {
   "cell_type": "markdown",
   "metadata": {},
   "source": [
    "**LeakyReLU**"
   ]
  },
  {
   "cell_type": "markdown",
   "metadata": {},
   "source": [
    "To solve this, use *Leaky ReLU*. Ensures that neurons never die. Defined as:<br>\n",
    "$LeakyReLU_{\\alpha}(z) = max(\\alpha z, z)$"
   ]
  },
  {
   "cell_type": "markdown",
   "metadata": {},
   "source": [
    "$\\alpha$ defines how much the function \"leaks\": it's the slope of the function for z<0 and is typically set to 0.01. "
   ]
  },
  {
   "cell_type": "markdown",
   "metadata": {},
   "source": [
    "PReLU also outperforms ReLU in many cases. $\\alpha$ is authorized to be learned during training (instead of being a hyperparameter, it becomes a parameter that can be modified by backpropagation like any other parameter)"
   ]
  },
  {
   "cell_type": "markdown",
   "metadata": {},
   "source": [
    "**ELU**"
   ]
  },
  {
   "cell_type": "markdown",
   "metadata": {},
   "source": [
    "Outperforms all ReLU variants"
   ]
  },
  {
   "cell_type": "markdown",
   "metadata": {},
   "source": [
    "![elu_formula](elu_form.png)"
   ]
  },
  {
   "cell_type": "markdown",
   "metadata": {},
   "source": [
    "![elu](ELU.png)"
   ]
  },
  {
   "cell_type": "markdown",
   "metadata": {},
   "source": [
    "Main drawback is that it is slower to compute than ReLU (due to the use of exponential function)"
   ]
  },
  {
   "cell_type": "markdown",
   "metadata": {},
   "source": [
    "**SELU**"
   ]
  },
  {
   "cell_type": "markdown",
   "metadata": {},
   "source": [
    "scaled variant of ELU. Authors showed that if you build a neural network composed exclusively of a stack of dense layers, and if all hidden layers use the SELU activation function, then the network will *self-normalize*: the output of each layer will tend to preserve a mean of 0 and standard deviation of 1 during training, which solves the vanishing/exploding gradients problem. As a result, it outperforms other activations. However, some conditions must be met for self-normalization to happen:\n",
    "- Input features must be standardized ($\\mu$=0, $\\sigma$=1)\n",
    "- Every hidden layer's weights must be initialized with LeCunn normal initialization. In Keras, `kernel_initializer=\"lecun_normal\"`\n",
    "- Network architecture must be sequential\n",
    "- All layers are dense"
   ]
  },
  {
   "cell_type": "markdown",
   "metadata": {},
   "source": [
    "To use leaky ReLU activation function:"
   ]
  },
  {
   "cell_type": "code",
   "execution_count": null,
   "metadata": {},
   "outputs": [],
   "source": [
    "model = keras.models.Sequential([\n",
    "    [...]\n",
    "    keras.layer.Dense(10, kernel_initializer='he_normal'),\n",
    "    keras.layers.LeakyReLU(alpha=0.2),\n",
    "    [...]\n",
    "])"
   ]
  },
  {
   "cell_type": "markdown",
   "metadata": {},
   "source": [
    "For PReLU, replace `LeakyReLU(alpha=0.2)` with `PReLU()`"
   ]
  },
  {
   "cell_type": "markdown",
   "metadata": {},
   "source": [
    "For SELU:"
   ]
  },
  {
   "cell_type": "code",
   "execution_count": null,
   "metadata": {},
   "outputs": [],
   "source": [
    "layer = keras.layers.Dense(10, activation=\"selu\", kernel_initializer=\"lecun_normal\")"
   ]
  },
  {
   "cell_type": "markdown",
   "metadata": {},
   "source": [
    "### Batch Normalization"
   ]
  },
  {
   "cell_type": "markdown",
   "metadata": {},
   "source": [
    "Significantly reduces possibility of vanishing/exploding gradients. Consists of adding an operation in the model just before or after the activation function of each hidden layer. This operation zero-centers and normalizes each input, then scales and shifts the result using two new parameter vectors per layer: one for scaling, the other for shifting. I.e., the operation lets the model learn the optimal scale and mean of each of the layer's inputs. "
   ]
  },
  {
   "cell_type": "markdown",
   "metadata": {},
   "source": [
    "Led to huge improvement in the ImageNet classification task (large database of images classified into many classes, commonly used to evaluate computer vision systems). Vanishing gradients problem was strongly reduced, to the point they could use saturating activation functions such as tanh and logistic activation function. Networks were also much less sensitive to weight initialization. They were able to use larger learning rates, significantly speeding up the learning process. It also acts like a regularizer."
   ]
  },
  {
   "cell_type": "markdown",
   "metadata": {},
   "source": [
    "**Implementing Batch Normalization with Keras**"
   ]
  },
  {
   "cell_type": "markdown",
   "metadata": {},
   "source": [
    "Add `BatchNormalization` layer before or after each hidden layer's activation function; optionally add BN layer as the first layer in model"
   ]
  },
  {
   "cell_type": "code",
   "execution_count": null,
   "metadata": {},
   "outputs": [],
   "source": [
    "model = keras.models.Sequential([\n",
    "    keras.layers.Flatten(input_shape=[28,28]),\n",
    "    keras.layers.BatchNormalization(),\n",
    "    keras.layers.Dense(300, activation='elu', kernel_initializer='he_normal'),\n",
    "    keras.layers.BatchNormalization(),\n",
    "    keras.layers.Dense(100, activation='elu', kernel_initializer='he_normal'),\n",
    "    keras.layers.BatchNormalization(),\n",
    "    keras.layers.Dense(10, activation='softmax')\n",
    "])"
   ]
  },
  {
   "cell_type": "code",
   "execution_count": null,
   "metadata": {},
   "outputs": [],
   "source": [
    ">>> model.summary()"
   ]
  },
  {
   "cell_type": "code",
   "execution_count": null,
   "metadata": {},
   "outputs": [],
   "source": [
    ">>> [(var.name, var.trainable) for var in model.layers[1].variables]"
   ]
  },
  {
   "cell_type": "markdown",
   "metadata": {},
   "source": [
    "To add BN layers before the activation functions, remove activation function from the hidden layers and add them as separate layers after the BN layers. Moreover, since BN layers include one offset parameter per input, you can remove the bias term from previous layer:"
   ]
  },
  {
   "cell_type": "code",
   "execution_count": null,
   "metadata": {},
   "outputs": [],
   "source": [
    "model = keras.models.Sequential([\n",
    "    keras.layers.Flatten(input_shape=[28,28]),\n",
    "    keras.layers.BatchNormalization(),\n",
    "    keras.layers.Dense(300, kernel_initializer='he_normal', use_bias=False),\n",
    "    keras.layers.BatchNormalization(),\n",
    "    keras.layers.Activation('elu'),\n",
    "    keras.layers.Dense(100, kernel_initializer='he_normal', use_bias=False),\n",
    "    keras.layers.BatchNormalization(),\n",
    "    keras.layers.Activation('elu'),\n",
    "    keras.layers.Dense(10, 'softmax')\n",
    "])"
   ]
  },
  {
   "cell_type": "markdown",
   "metadata": {},
   "source": [
    "Update `momentum` hyperparameter for BN. It is used by BN when it updates the exponential moving average. Good values are close to 1; e.g, 0.9, 0.99, 0.999 (you want more 9s for larger datasets and smaller mini-batches)."
   ]
  },
  {
   "cell_type": "markdown",
   "metadata": {},
   "source": [
    "`axis` hyperparameter determines which axis should be normalized. Defaults to -1, meaning that it will normalize the last axis (using the means and std computed across the *other* axes). When inpt batch is 2D ([*batch size, features*]), each input feature will be normalized based on the mean and std computed across all the instances in the batch. E.g., first BN layer in the previous code example will independetly normalize (and rescale and shift) 784 input features. If we move the first BN layer before the `Flatten` layer, the input batches will be 3D ([*batch size, height, width*]); therefore, the BN layer will compute 28 means and 28 std (1 per column of pixels, compputed across all instances in the batch and across all rows in the column). If you want to treat each of the 784 pixes independently, set `axis=[1, 2]`"
   ]
  },
  {
   "cell_type": "markdown",
   "metadata": {},
   "source": [
    "### Gradient Clipping"
   ]
  },
  {
   "cell_type": "markdown",
   "metadata": {},
   "source": [
    "Clip gradients during backpropagation so they never exceed some threshold; another technique to mitigate the exploding gradients. Often used in RNN, since BN is tricky to use in RNNs."
   ]
  },
  {
   "cell_type": "markdown",
   "metadata": {},
   "source": [
    "Keras implementation:"
   ]
  },
  {
   "cell_type": "code",
   "execution_count": null,
   "metadata": {},
   "outputs": [],
   "source": [
    "optimizer = keras.optimizers.SGD(clipvalue=1.0)\n",
    "model.compile(loss='mse', optimizer=optimizer)"
   ]
  },
  {
   "cell_type": "markdown",
   "metadata": {},
   "source": [
    "Optimizer will clip every component of the gradient vector to a value between -1.0 and 1.0. If you want to ensure that Gradient Clipping does not change the direction of the gradient vector, clip by norm by setting `clipnorm` instead of `clipvalue`. This will clip the whole gradient if its $l_{2}$ norm is greater than the threshold you picked. If gradients explode during training, try both clipping by value and nrom, with different thresholds, see which option performs best on validation"
   ]
  },
  {
   "cell_type": "markdown",
   "metadata": {},
   "source": [
    "## Reusing Pretrained Layers"
   ]
  },
  {
   "cell_type": "markdown",
   "metadata": {},
   "source": [
    "*Transfer Learning*: resuing lower layers of a prexisting (similar) network to accomplish a task"
   ]
  },
  {
   "cell_type": "markdown",
   "metadata": {},
   "source": [
    "The more similar the tasks are the more layers you want to reuse. "
   ]
  },
  {
   "cell_type": "markdown",
   "metadata": {},
   "source": [
    "### Transfer Learning with Keras"
   ]
  },
  {
   "cell_type": "markdown",
   "metadata": {},
   "source": [
    "Suppose the Fashion MNIST dataset contained only 8 classes (all the classes except shirt and sandal). Someone built and trained a Keras model on that set and got good performance (>90% accuracy). Call this model A. You want to tackle a different task: you have images of sandals and shirts, and you want to train a binary classifier (0=shirt, 1=sandal). Your dataset is quite small (200 labeled images). When you train a new model for this task (model B) with the same architecture as model A, it performs well (97% accuracy). Since it's a similar task to model A, transfer learning might help."
   ]
  },
  {
   "cell_type": "code",
   "execution_count": null,
   "metadata": {},
   "outputs": [],
   "source": [
    "model_A = keras.models.load_model('my_model_A.h5')\n",
    "model_B_on_A = keras.models.Sequential(model_A.layers[:-1]) # reuse all the layers except output layer\n",
    "model_B_on_A.add(keras.layers.Dense(1, activation='sigmoid'))"
   ]
  },
  {
   "cell_type": "markdown",
   "metadata": {},
   "source": [
    "Note new model shares layers with model A, so training will affect the layers in model A as well. You must clone model A to use its layers. Clone model A's architecture with `clone_model()` then copy its weights (`clone_model()` does not clone weights)."
   ]
  },
  {
   "cell_type": "code",
   "execution_count": null,
   "metadata": {},
   "outputs": [],
   "source": [
    "model_A_clone = keras.models.clone_model(model_A)\n",
    "model_A_clone.set_weights(model_A.get_weights())"
   ]
  },
  {
   "cell_type": "markdown",
   "metadata": {},
   "source": [
    "Now you can train `model_B_on_A` for task B. But output layer was initialized randomly, it will make large errors, so there will be large error gradients that may wreck the reused weights. To avoid, one approach is to freeze the reused layers during the first few epochs, giving the new layer some time to learn reasonable weights. Set every layer's `trainable` attribute to `False` and compile the model:"
   ]
  },
  {
   "cell_type": "code",
   "execution_count": null,
   "metadata": {},
   "outputs": [],
   "source": [
    "for layer in model_B_on_A.layers[:-1]:\n",
    "    layer.trainable = False\n",
    "\n",
    "model_B_on_A.compile(loss='binary_crossentropy', optimizer='sgd', metrics=['accuracy'])"
   ]
  },
  {
   "cell_type": "markdown",
   "metadata": {},
   "source": [
    "Now you can train the model for the first few epochs, then unfreeze the reused layers (requires compiling the model again) and continue training to fine-tune the reused layers for task B. After unfreezing layers, reduce the learning rate, once again to avoid damaging the reused weights:"
   ]
  },
  {
   "cell_type": "code",
   "execution_count": null,
   "metadata": {},
   "outputs": [],
   "source": [
    "history = model_B_on_A.fit(X_train_B, y_train_B, epochs=4, validation_data=[X_valid_B, y_valid_B])\n",
    "\n",
    "for layer in model_B_on_A[:-1]:\n",
    "    layer.trainable = True\n",
    "\n",
    "optimzer = keras.optimizers.SGD(lr=1e-4) # default lr is 1e-2\n",
    "model_B_on_A.compile(loss='binary_crossentropy', optimizer=optimizer, metrics=['accuracy'])\n",
    "\n",
    "history = model_B_on_A.fit(X_train_B, y_train_B, epochs=16, validation_data=(X_valid_B, y_valid_B))"
   ]
  },
  {
   "cell_type": "markdown",
   "metadata": {},
   "source": [
    "Transfer learning works best with deep CNN, whcih tend to learn feature detectors that are much more general"
   ]
  },
  {
   "cell_type": "markdown",
   "metadata": {},
   "source": [
    "### Unsupervised Pretraining"
   ]
  },
  {
   "cell_type": "markdown",
   "metadata": {},
   "source": [
    "If you can gather unlabeled training data, you can use it to train an unsupervised model, such as an autoencoder or generative adversarial network. Useful when you have a complex task to solve, no similar model you can reuse, and little labeled training data but plenty of unlabeled training data."
   ]
  },
  {
   "cell_type": "markdown",
   "metadata": {},
   "source": [
    "### Pretraining on an Auxiliary Task"
   ]
  },
  {
   "cell_type": "markdown",
   "metadata": {},
   "source": [
    "If you do not have much labeled training data, one option is to train a first neural network on an auxiliary task for which you can easily obtain or generate labeled training data, then reuse the lower layers of that network for you actual task. The first neural network's lower layers will learn feature detectors that will likely be reusable by the second neural network."
   ]
  },
  {
   "cell_type": "markdown",
   "metadata": {},
   "source": [
    "## Faster Optimizers"
   ]
  },
  {
   "cell_type": "markdown",
   "metadata": {},
   "source": [
    "- Momentum optimization\n",
    "- Nesterov Accelerated Gradient\n",
    "- AdaGrad\n",
    "- RMSProp\n",
    "- Adam and Nadam optimization"
   ]
  },
  {
   "cell_type": "markdown",
   "metadata": {},
   "source": [
    "### Momentum Optimization"
   ]
  },
  {
   "cell_type": "markdown",
   "metadata": {},
   "source": [
    "Where Gradient Descent is like taking small steps to find out which direction to go toward, momentum optimization is like rolling a bowling ball down a gentle slope. It'll pick up momentum until it finds a terminal velocity (if there is some friction)."
   ]
  },
  {
   "cell_type": "markdown",
   "metadata": {},
   "source": [
    "Cares about what the previous gradients were: at each iteration it subtracts the local gradient from the *momentum vector* **m** and it updates the weights by adding this momentum vector. Gradient is used for acceleration not speed. Algorithm introduces hyperparameter $\\beta$ for friction set between 0 (high friction) and 1 (no friction). Typical value is 0.9."
   ]
  },
  {
   "cell_type": "code",
   "execution_count": null,
   "metadata": {},
   "outputs": [],
   "source": [
    "optimizer = keras.optimizer.SGD(lr=0.001, momentum=0.9)"
   ]
  },
  {
   "cell_type": "markdown",
   "metadata": {},
   "source": [
    "Drawback is that it adds another hyperparameter to tune. But 0.9 is usually fine."
   ]
  },
  {
   "cell_type": "markdown",
   "metadata": {},
   "source": [
    "### Nesterov Accelerated Gradient"
   ]
  },
  {
   "cell_type": "markdown",
   "metadata": {},
   "source": [
    "Variant of momentum optimization. Measures a gradient of the cost function not at the local position, but slightly ahead in the direction of the momentum. Generally faster than momentum optimization."
   ]
  },
  {
   "cell_type": "code",
   "execution_count": null,
   "metadata": {},
   "outputs": [],
   "source": [
    "optimizer = keras.optimizer.SGD(lr=0.001, momentum=0.9, nesterov=True)"
   ]
  },
  {
   "cell_type": "markdown",
   "metadata": {},
   "source": [
    "### AdaGrad"
   ]
  },
  {
   "cell_type": "markdown",
   "metadata": {},
   "source": [
    "Scales down the gradient vector along the steepest dimensions"
   ]
  },
  {
   "cell_type": "markdown",
   "metadata": {},
   "source": [
    "The algorithm decays the learning rate, but does so faster for steep dimensions than for dimensions with gentler slopes. This is called an *adaptive learning rate*. It helps the resulting updates more directly toward the global optimum."
   ]
  },
  {
   "cell_type": "markdown",
   "metadata": {},
   "source": [
    "Performs well for simple quadratic problems, but often stops too early when training neural networks. "
   ]
  },
  {
   "cell_type": "markdown",
   "metadata": {},
   "source": [
    "### RMSProp"
   ]
  },
  {
   "cell_type": "markdown",
   "metadata": {},
   "source": [
    "Fixes AdaGrad from stopping early by accumulating only the gradients from the most recent iterations (as opposed to all the gradients since the beginning of training). Decay rate $\\beta$ is usually 0.9. Again, another hyperparameter to tune but the default value usually works well."
   ]
  },
  {
   "cell_type": "code",
   "execution_count": null,
   "metadata": {},
   "outputs": [],
   "source": [
    "optimizer = keras.optimizers.RMSprop(lr=0.001, rho=0.9)"
   ]
  },
  {
   "cell_type": "markdown",
   "metadata": {},
   "source": [
    "Note `rho` corresponds to $\\beta$. Except on very simple problems, almost always works better than AdaGrad."
   ]
  },
  {
   "cell_type": "markdown",
   "metadata": {},
   "source": [
    "### Adam and Nadam Optimization"
   ]
  },
  {
   "cell_type": "markdown",
   "metadata": {},
   "source": [
    "*Adaptive moment estimation* combines momentum optimization and RMSProp: like momentum optimization, it keeps track of an exponentially decaying average of past gradients; and like RMSProp, it keeps track of an exponentially decaying average of past squared gradients."
   ]
  },
  {
   "cell_type": "code",
   "execution_count": null,
   "metadata": {},
   "outputs": [],
   "source": [
    "optimizer = keras.optimizers.Adam(lr=0.001, beta_1=0.9, beta_2=0.999)"
   ]
  },
  {
   "cell_type": "markdown",
   "metadata": {},
   "source": [
    "*AdaMax*: Adam scales down the parameter updates by the $l_{2}$ norm of the time-decayed gradients (recall that the $l_{2}$ norm is the square root of the sum of squares). AdaMax replaces the $l_{2}$ norm with the  $l_{∞}$ norm (fancy way of saying the max)."
   ]
  },
  {
   "cell_type": "markdown",
   "metadata": {},
   "source": [
    "*Nadam*: Adam optimization plus the Nesterov trick, so it will often converge slightly faster than Adam."
   ]
  },
  {
   "cell_type": "markdown",
   "metadata": {},
   "source": [
    "## Learning Rate Scheduling"
   ]
  },
  {
   "cell_type": "markdown",
   "metadata": {},
   "source": [
    "- Power scheduling\n",
    "- Exponential scheduling\n",
    "- Piecewise constant scheduling\n",
    "- Performance scheduling\n",
    "- 1cycle scheduling"
   ]
  },
  {
   "cell_type": "markdown",
   "metadata": {},
   "source": [
    "Power scheduling. `decay` is inverse of *s* (number of steps it takes to divide the learning rate by one more unit), Keras assumes *c* is equal to 1:"
   ]
  },
  {
   "cell_type": "code",
   "execution_count": null,
   "metadata": {},
   "outputs": [],
   "source": [
    "optimizer = keras.optimizers.SGD(lr=0.01, decay=1e-4)"
   ]
  },
  {
   "cell_type": "markdown",
   "metadata": {},
   "source": [
    "Exponential and piecewise constant scheduling require defining a function that takes the current epoch and returns the learning rate."
   ]
  },
  {
   "cell_type": "code",
   "execution_count": null,
   "metadata": {},
   "outputs": [],
   "source": [
    "def exponential_decay_fn(epoch):\n",
    "    return 0.01 * 0.1**(epoch / 20)"
   ]
  },
  {
   "cell_type": "markdown",
   "metadata": {},
   "source": [
    "to avoid hardcoding $\\eta_{0}$ and *s*, create a function that returns a configured function"
   ]
  },
  {
   "cell_type": "code",
   "execution_count": null,
   "metadata": {},
   "outputs": [],
   "source": [
    "def exponential_decay(lr0, s):\n",
    "    def exponential_decay_fn(epoch):\n",
    "        return lr0 * 0.01**(epoch / s)\n",
    "    return exponential_decay_fn\n",
    "\n",
    "exponential_decay_fn = exponential_decay(lr0=0.01, s=20)"
   ]
  },
  {
   "cell_type": "markdown",
   "metadata": {},
   "source": [
    "Create a `LearningRateScheduler` callback"
   ]
  },
  {
   "cell_type": "code",
   "execution_count": null,
   "metadata": {},
   "outputs": [],
   "source": [
    "lr_scheduler = keras.callbacks.LearningRateScheduler(exponential_decay_fn)\n",
    "history = model.fit(X_train_scaled, y_train, [...], callbacks=[lr_scheduler])"
   ]
  },
  {
   "cell_type": "markdown",
   "metadata": {},
   "source": [
    "Schedule function can optionally take the current learning rate as a second argument. For example, the following schedule function multiplies the previous learning rate by $0.1^{1/20}$ which results in the same exponential decay (except the decay now starts at the beginning of the epoch 0 instead of 1):"
   ]
  },
  {
   "cell_type": "code",
   "execution_count": null,
   "metadata": {},
   "outputs": [],
   "source": [
    "def exponential_decay_fn(epoch, lr):\n",
    "    return lr * 0.1**(1/20)"
   ]
  },
  {
   "cell_type": "markdown",
   "metadata": {},
   "source": [
    "Relies on the optimizer's initial learning rate. Make sure to set it appropriately"
   ]
  },
  {
   "cell_type": "markdown",
   "metadata": {},
   "source": [
    "Optimizer and learning rate get saved when saving a model. `epoch` argument of schedule function does not. It gets reset to 0 every time you call `fit()`. Manually set the `fit()` method's `initial_epoch` argument so the `epoch` starts at the right value."
   ]
  },
  {
   "cell_type": "markdown",
   "metadata": {},
   "source": [
    "For piecewise constant scheduling"
   ]
  },
  {
   "cell_type": "code",
   "execution_count": null,
   "metadata": {},
   "outputs": [],
   "source": [
    "def piecewise_constant_fn(epoch):\n",
    "    if epoch < 5:\n",
    "        return 0.01\n",
    "    elif epoch < 15:\n",
    "        return 0.005\n",
    "    else:\n",
    "        return 0.001"
   ]
  },
  {
   "cell_type": "markdown",
   "metadata": {},
   "source": [
    "For performance scheduling, use `ReduceLROnPlateau` callback. E.g., if you pass the following callback to the `fit()` method, it will multiply the learning rate by 0.5 whenever the best validation loss does not improve for five consecutive epochs:"
   ]
  },
  {
   "cell_type": "code",
   "execution_count": null,
   "metadata": {},
   "outputs": [],
   "source": [
    "lr_scheduler = keras.callbacks.ReduceLROnPlateau(factor=0.5, patience=5)"
   ]
  },
  {
   "cell_type": "markdown",
   "metadata": {},
   "source": [
    "tf.keras offers an alternative to implement learning rate scheduling: define the learning rate using one of the schedules available in `keras.optimizers.schedules`, then pass this learning rate to any optimizer"
   ]
  },
  {
   "cell_type": "code",
   "execution_count": null,
   "metadata": {},
   "outputs": [],
   "source": [
    "s = 20 * len(X_train) // 32 # number of steps in 20 epochs (batch size = 32)\n",
    "learning_rate = keras.optimizers.schedules.ExponentialDecay(0.01, s, 0.1)\n",
    "optimizer = keras.optimizers.SGD(learning_rate)"
   ]
  },
  {
   "cell_type": "markdown",
   "metadata": {},
   "source": [
    "Summary: exponential decay, peformance, and 1cycle schedling can considerably speed up convergence"
   ]
  },
  {
   "cell_type": "markdown",
   "metadata": {},
   "source": [
    "## Avoid Overfitting Through Regularization"
   ]
  },
  {
   "cell_type": "markdown",
   "metadata": {},
   "source": [
    "Already looked at Early Stopping and Batch Normalization (designed to solve unstable gradients problems but also acts like a pretty good regularizer). Let's look at more:"
   ]
  },
  {
   "cell_type": "markdown",
   "metadata": {},
   "source": [
    "### $ℓ_{1}$ and $ℓ_{2}$ Regularization"
   ]
  },
  {
   "cell_type": "markdown",
   "metadata": {},
   "source": [
    "You can use $ℓ_{2}$ regularization to constrain a neural network's connection weights, and/or $ℓ_{1}$ regularization if you want a sparse model (with many weights equal to 0)"
   ]
  },
  {
   "cell_type": "code",
   "execution_count": null,
   "metadata": {},
   "outputs": [],
   "source": [
    "layer = keras.layers.Dense(100, activation='elu',\n",
    "                            kernel_initializer='he_normal',\n",
    "                            kernel_regularizer=keras.regularizers.l2(0.01))"
   ]
  },
  {
   "cell_type": "markdown",
   "metadata": {},
   "source": [
    "`l2()` returns a regularizer that will be called at each step during training to compute the regularization loss. This is then added to the final loss. Use `keras.regularizers.l1()` if you want $ℓ_{1}$ regularization; for both use `keras.regularizers.l1_l2()`"
   ]
  },
  {
   "cell_type": "markdown",
   "metadata": {},
   "source": [
    "To avoid repeating the same initialization strategy in all hidden layer, use loops or Python's `functools.partial()`"
   ]
  },
  {
   "cell_type": "code",
   "execution_count": null,
   "metadata": {},
   "outputs": [],
   "source": [
    "from functools import partial\n",
    "\n",
    "RegularizedDense = partial(keras.layers.Dense,\n",
    "                            activation='elu',\n",
    "                            kernel_initializer='he_normal',\n",
    "                            kernel_regularizer=keras.regularizers.l2(0.01))\n",
    "\n",
    "model = keras.models.Sequential([\n",
    "    keras.layers.Flatten(input_shape=[28,28]),\n",
    "    RegularizedDense(300),\n",
    "    RegularizedDense(100),\n",
    "    RegularizedDense(10, activation='softmax',\n",
    "                        kernel_initializer='glorot_uniform')\n",
    "])"
   ]
  },
  {
   "cell_type": "markdown",
   "metadata": {},
   "source": [
    "### Dropout"
   ]
  },
  {
   "cell_type": "markdown",
   "metadata": {},
   "source": [
    "*Dropout* is one of the most popular regularization techniques for deep neural networks"
   ]
  },
  {
   "cell_type": "markdown",
   "metadata": {},
   "source": [
    "At every training setp, every neuron (including the input neurons, but always excluding the output neurons) has a probability *p* of being temporarily \"dropped out\", meaning it will be entirely ignored during this training step, but it may be active during the next step. The hyperparameter *p* is called the *dropout rate*, and is typically set between 10% and 50%: closer to 20-30% in RNNs, and closer to 40-50% in CNNs. After training, neurons don't get dropped anymore. "
   ]
  },
  {
   "cell_type": "markdown",
   "metadata": {},
   "source": [
    "Dropout essentially creates a new, smaller neural network at each training step. The resulting neural network can be seen as an averaging ensemble of all these smaller networks. "
   ]
  },
  {
   "cell_type": "markdown",
   "metadata": {},
   "source": [
    "One caveat, we must multiply each input connection weight by the *keep probability* (1-*p*) after training. Alternatively, we can divide each neuron's output by the keep probability during training.  "
   ]
  },
  {
   "cell_type": "code",
   "execution_count": null,
   "metadata": {},
   "outputs": [],
   "source": [
    "model = keras.models.Sequential([\n",
    "    keras.layers.Flatten(input_shape=[28,28]),\n",
    "    keras.layers.Dropout(rate=0.2),\n",
    "    keras.layers.Dense(300, activation='elu', kernel_initializer='he_normal'),\n",
    "    keras.layers.Dropout(rate=0.2),\n",
    "    keras.layers.Dense(100, activation='elu', kernel_initializer='he_normal'),\n",
    "    keras.layers.Dropout(rate=0.2),\n",
    "    keras.layers.Dense(10, activation='softmax')\n",
    "])"
   ]
  },
  {
   "cell_type": "markdown",
   "metadata": {},
   "source": [
    "If the model is overfitting, you can increase the dropout rate. Conversely, you should decrease it if the model underfits the training set. It can also help to increase the dropout rate for large layers, and reduce it for small ones. Moreover, many architectures only use dropout after the last hidden layer, so you may want to try this if full dropout is too strong."
   ]
  },
  {
   "cell_type": "markdown",
   "metadata": {},
   "source": [
    "### Monte Carlo (MC) Dropout"
   ]
  },
  {
   "cell_type": "code",
   "execution_count": null,
   "metadata": {},
   "outputs": [],
   "source": [
    "y_probas = np.stack([model(X_test_scaled, training=True)\n",
    "                    for sample in range(100)])\n",
    "y_proba = y_probas.mean(axis=0)"
   ]
  },
  {
   "cell_type": "markdown",
   "metadata": {},
   "source": [
    "`model(X)` is similar to `model.predict(X)` except it returns a tensor rather than a NumPy array, and it supports the `training` argument"
   ]
  },
  {
   "cell_type": "markdown",
   "metadata": {},
   "source": [
    "We make 100 predictions over the test set, and we stack them. Each call to the model returns a matrix with one row per instance and one column per class. Because there are 10,000 instances in the test set and 10 classes, this is a matrix of shape [10000, 10]. We stack 100 such matrices, so `y_probas` is an array of [100, 10000, 10]. Once we average over the first dimension (axis=0) we get `y_proba`, an array of shape [10000, 10], like we would get with a single prediction"
   ]
  },
  {
   "cell_type": "markdown",
   "metadata": {},
   "source": [
    "Averaging over multiple predictions with dropout on gives us a Monte Carlo estimate that is generally more reliable than the result of a single prediction with dropout off. "
   ]
  },
  {
   "cell_type": "markdown",
   "metadata": {},
   "source": [
    "If your model contains other layers that behave in a special way during training (such as `BatchNormalization`), then you should not force training mode like we just did. Instead, replace the `Dropout` layers with the following `MCDropout` class:"
   ]
  },
  {
   "cell_type": "code",
   "execution_count": null,
   "metadata": {},
   "outputs": [],
   "source": [
    "class MCDropout(keras.layers.Dropout):\n",
    "    def call(self, inputs):\n",
    "        return super().call(inputs, training=True)"
   ]
  },
  {
   "cell_type": "markdown",
   "metadata": {},
   "source": [
    "### Max-Norm Regluarization"
   ]
  },
  {
   "cell_type": "markdown",
   "metadata": {},
   "source": [
    "For each neuron, it constrains the weights **w** of the incoming connections such that ||**w**||$_{2}$ ≤ *r*, where *r* is the max-norm hyperparameter and ||.||$_{2}$ is the $ℓ_{2}$ norm"
   ]
  },
  {
   "cell_type": "markdown",
   "metadata": {},
   "source": [
    "Does not add a regularization loss term to the overall loss function. Instead, it computes ||**w**||$_{2}$ after each training step and rescaling **w** if needed <br> \n",
    "(**w** <- **w** *r*/||**w**||$_{2}$)"
   ]
  },
  {
   "cell_type": "markdown",
   "metadata": {},
   "source": [
    "Reducing *r* increases the amount of regularization and helps reduce overfitting. Can also help alleviate unstable gradients problem (if you are not already using Batch Normalization)"
   ]
  },
  {
   "cell_type": "code",
   "execution_count": null,
   "metadata": {},
   "outputs": [],
   "source": [
    "keras.layers.Dense(100, activation='elu', kernel_initializer='he_normal', \n",
    "                    kernel_constraint=keras.constraints.max_norm(1.))"
   ]
  },
  {
   "cell_type": "markdown",
   "metadata": {},
   "source": [
    "## Summary and Practical Guidelines"
   ]
  },
  {
   "cell_type": "markdown",
   "metadata": {},
   "source": [
    "Default DNN configuration"
   ]
  },
  {
   "cell_type": "markdown",
   "metadata": {},
   "source": [
    "|Hyperparameter        |Default value                              |\n",
    "|:---------------------|:------------------------------------------|\n",
    "|Kernel initializer    |He initialization                          |\n",
    "|Activation function   |ELU                                        |\n",
    "|Normalization         |None if shallow; Batch norm if deep        |\n",
    "|Regularization        |Early stopping (+$ℓ_{2}$ reg if needed)    |\n",
    "|Optimizer             |Momentum optimization (or RMSProp or Nadam)|\n",
    "|learning rate schedule|1cycle                                     |"
   ]
  },
  {
   "cell_type": "markdown",
   "metadata": {},
   "source": [
    "If network is simple stack of dense layers, use the following:"
   ]
  },
  {
   "cell_type": "markdown",
   "metadata": {},
   "source": [
    "DNN configuration for self-normalizing net"
   ]
  },
  {
   "cell_type": "markdown",
   "metadata": {},
   "source": [
    "|Hyperparameter        |Default value                              |\n",
    "|:---------------------|:------------------------------------------|\n",
    "|Kernel initializer    |LeCun initialization                       |\n",
    "|Activation function   |SELU                                       |\n",
    "|Normalization         |None (self-normalization)                  |\n",
    "|Regularization        |Alpha dropout if needed                    |\n",
    "|Optimizer             |Momentum optimization (or RMSProp or Nadam)|\n",
    "|learning rate schedule|1cycle                                     |"
   ]
  },
  {
   "cell_type": "markdown",
   "metadata": {},
   "source": [
    "Don't forget to normalize input features"
   ]
  },
  {
   "cell_type": "markdown",
   "metadata": {},
   "source": [
    "Try to reuse parts of a pertrained neural network if you can find one that solves a similar problem, or use unsupervised pretraining if you have a lot of ulabeled data, or use pretraining on an auxiliary task if you have a lot of labeled data for a similar task"
   ]
  },
  {
   "cell_type": "markdown",
   "metadata": {},
   "source": [
    "Some exceptions:\n",
    "- If you need a sparse model, you can use $ℓ_{1}$ regularization (and optionally zero out the tiny weights after training). If you need an even sparser model, you can use the Tensorflow Model Optimization Toolkit. This will break self-normalization, so you should use the default configuration in this case\n",
    "- If you need a low-latency model (one that performs lightning-fast predictions), you may need to use fewer layers, fold the Batch Normalization layers into the previous layers, and possibly use a faster activation function such as leaky ReLU or just ReLU. Having a sparse model will also help. Finally, you may want to reduce the float precision from 32 bits to 16 or even 8 bits (see \"Deploying a Model to a Mobile or Embedded Device\" on page 685). Again, check out TF-MOT. \n",
    "- If you are building a risk-sensitive application, or inference latency is not very important in your application, you can use MC Dropout to boost performance and get more reliable probability estimates, along with uncertainty estimates. "
   ]
  },
  {
   "cell_type": "markdown",
   "metadata": {},
   "source": [
    "# Exercises"
   ]
  },
  {
   "cell_type": "markdown",
   "metadata": {},
   "source": [
    "1. **Is it OK to initialize all the weights to the same value as long as that value is selected randomly using He initialization?**\n",
    "<br>\n",
    "No, all the values should be sampled independently."
   ]
  },
  {
   "cell_type": "markdown",
   "metadata": {},
   "source": [
    "2. **Is it OK to initialize the bias terms to 0?**<br>\n",
    "It doesn't make a difference"
   ]
  },
  {
   "cell_type": "markdown",
   "metadata": {},
   "source": [
    "3. **Name three advantages of the SELU activation function over ReLU.**<br>\n",
    "    1. self-normalize (if conditions are right)\n",
    "    2. it can take on negative values (helps solve vanishing/exploding gradients problem)\n",
    "    3. always has a nonzero derivative (avoids dying ReLUs)"
   ]
  },
  {
   "cell_type": "markdown",
   "metadata": {},
   "source": [
    "4. **In which cases would you want to use each of the following activation functions: SELU, leaky ReLU (and its variants), ReLU, tanh, logistic, and softmax?**<br>\n",
    "- SELU: good default\n",
    "- leaky ReLU: faster training\n",
    "- ReLU: simplicity makes it a good alternative default despite it being outperformed by SELU and leaky ReLU\n",
    "- tanh: if you need to output a number between -1 and 1\n",
    "- logistic: if you need to estimate a probability\n",
    "- softmax: in the output layer to output probabilities for mutually exclusive classes"
   ]
  },
  {
   "cell_type": "markdown",
   "metadata": {},
   "source": [
    "5. **What may happen if you set the `momentum` hyperparameter too close to 1 (e.g., 0.99999) when using an `SGD` optimizer?**<br>\n",
    "Too little friction causes the algorithm to overshoot the global optimum, which will make it oscillate many times before converging"
   ]
  },
  {
   "cell_type": "markdown",
   "metadata": {},
   "source": [
    "6. **Name three ways you can produce a sparse model.**<br>\n",
    "    1. zero out tiny weights\n",
    "    2. $ℓ_{1}$ regularization\n",
    "    3. TensorFlow Model Optimization Toolkit"
   ]
  },
  {
   "cell_type": "markdown",
   "metadata": {},
   "source": [
    "7. **Does dropout slow down training? Does it slow down inference (i.e., making predictions on new instances)? What about MC Dropout?**<br>\n",
    "Dropout slows down training (roughly by a factor of 2) but not inference (since it is only active during training). MC dropout slows down training and inference (slightly). You also want to run inference 10 times or more to get better predictions (slowing down inference by a factor of 10)."
   ]
  },
  {
   "cell_type": "markdown",
   "metadata": {},
   "source": [
    "8. **Practice training a deep neural network on the CIFAR10 image dataset:**"
   ]
  },
  {
   "cell_type": "code",
   "execution_count": 1,
   "metadata": {},
   "outputs": [],
   "source": [
    "import numpy as np\n",
    "import tensorflow as tf\n",
    "from tensorflow import keras"
   ]
  },
  {
   "cell_type": "markdown",
   "metadata": {},
   "source": [
    "- **Build a DNN with 20 hidden layers of 100 neurons each (that's too many, but it's the point of this exercise). Use He initialization and the ELU activation function.**"
   ]
  },
  {
   "cell_type": "code",
   "execution_count": 2,
   "metadata": {},
   "outputs": [],
   "source": [
    "early_stopping_cb = keras.callbacks.EarlyStopping(patience=10, restore_best_weights=True)"
   ]
  },
  {
   "cell_type": "code",
   "execution_count": 3,
   "metadata": {},
   "outputs": [],
   "source": [
    "def build_cifar(n_hidden=20, n_neurons=100, learning_rate=1e-3, input_shape=[32,32,3], \n",
    "                activation='elu', kernel_initializer='he_normal', \n",
    "                batch_normalization=False, dropout=False):\n",
    "    model = keras.models.Sequential()\n",
    "    model.add(keras.layers.Flatten(input_shape=input_shape))\n",
    "    for _ in range(n_hidden):\n",
    "        if batch_normalization:\n",
    "            model.add(keras.layers.BatchNormalization())\n",
    "        if dropout:\n",
    "            model.add(keras.layers.AlphaDropout(rate=0.2))\n",
    "        model.add(keras.layers.Dense(n_neurons, activation=activation, kernel_initializer=kernel_initializer))\n",
    "    model.add(keras.layers.Dense(10, activation='softmax'))\n",
    "    optimizer = keras.optimizers.Nadam(learning_rate=learning_rate, beta_1=0.9, beta_2=0.999)\n",
    "    model.compile(loss='sparse_categorical_crossentropy', optimizer=optimizer, metrics=['accuracy'])\n",
    "    return model"
   ]
  },
  {
   "cell_type": "code",
   "execution_count": 4,
   "metadata": {},
   "outputs": [],
   "source": [
    "import matplotlib.pyplot as plt\n",
    "from keras import backend as K\n",
    "import math\n",
    "\n",
    "class LRFinder:\n",
    "    def __init__(self, model):\n",
    "        self.model = model\n",
    "        self.losses = []\n",
    "        self.lrs = []\n",
    "        self.best_loss = 1e9\n",
    "    \n",
    "    def on_batch_end(self, batch, logs):\n",
    "        # Log the learning rate\n",
    "        lr = K.get_value(self.model.optimizer.lr)\n",
    "        self.lrs.append(lr)\n",
    "\n",
    "        # Log the loss\n",
    "        loss = logs['loss']\n",
    "        self.losses.append(loss)\n",
    "\n",
    "        # Check whether the loss got too large or NaN\n",
    "        if math.isnan(loss) or loss > self.best_loss * 4:\n",
    "            self.model.stop_training = True\n",
    "            return\n",
    "        \n",
    "        # Increase the learning rate for the next batch\n",
    "        lr *= self.lr_mult\n",
    "        K.set_value(self.model.optimizer.lr, lr)\n",
    "    \n",
    "    def find(self, X_train, y_train, start_lr, end_lr, batch_size=32, epochs=2):\n",
    "        num_batches = epochs * X_train.shape[0] / batch_size\n",
    "        self.lr_mult = (end_lr / start_lr) ** (1 / num_batches)\n",
    "\n",
    "        # Save weights into a file\n",
    "        self.model.save_weights('tmp.h5')\n",
    "\n",
    "        # Remember the original learning rate\n",
    "        original_lr = K.get_value(self.model.optimizer.lr)\n",
    "\n",
    "        # Set the initial learning rate\n",
    "        K.set_value(self.model.optimizer.lr, start_lr)\n",
    "\n",
    "        callback = keras.callbacks.LambdaCallback(on_batch_end=lambda batch, logs: self.on_batch_end(batch, logs))\n",
    "\n",
    "        self.model.fit(X_train, y_train, epochs=epochs, batch_size=batch_size, callbacks=[callback])\n",
    "        \n",
    "        # Restore the weights to the state before model fitting\n",
    "        self.model.load_weights('tmp.h5')\n",
    "\n",
    "        # Restore original learning rate\n",
    "        K.set_value(self.model.optimizer.lr, original_lr)\n",
    "\n",
    "    def plot_loss(self, xlim=(1e-9,1), ylim=(0,10)):\n",
    "        \"\"\"\n",
    "        Plots the loss.\n",
    "        Parameters:\n",
    "            n_skip_beginning - number of batches to skip on the left.\n",
    "            n_skip_end - number of batches to skip on the right.\n",
    "        \"\"\"\n",
    "\n",
    "        plt.ylabel('loss')\n",
    "        plt.xlabel('learning rate (log scale)')\n",
    "        plt.plot(self.lrs, self.losses)\n",
    "        plt.xlim(xlim)\n",
    "        plt.ylim(ylim)\n",
    "        plt.xscale('log')"
   ]
  },
  {
   "cell_type": "markdown",
   "metadata": {},
   "source": [
    "- **Using Nadam optimization and early stopping, train the network on the CIFAR10 dataset. You can load it with the `keras.datasets.cifar10.load_data()`. The dataset is composed of 60,000 32x32-pixel color images (50,000 for training, 10,000 for testing) with 10 classes, so you'll need a softmax output layer with 10 neurons. Remember to search for the right learning rate each time you change the model's architecture or hyperparameters.**"
   ]
  },
  {
   "cell_type": "code",
   "execution_count": 5,
   "metadata": {},
   "outputs": [],
   "source": [
    "from sklearn.model_selection import train_test_split\n",
    "\n",
    "(X_train, y_train), (X_test, y_test) = keras.datasets.cifar10.load_data()\n",
    "X_train, X_test = X_train / 255.0, X_test / 255.0\n",
    "y_train, y_test = y_train.flatten(), y_test.flatten()\n",
    "X_train, X_valid, y_train, y_valid = train_test_split(X_train, y_train, test_size=0.1, random_state=42)"
   ]
  },
  {
   "cell_type": "code",
   "execution_count": 39,
   "metadata": {},
   "outputs": [
    {
     "data": {
      "text/plain": [
       "((45000, 32, 32, 3), (5000, 32, 32, 3), (10000, 32, 32, 3))"
      ]
     },
     "execution_count": 39,
     "metadata": {},
     "output_type": "execute_result"
    }
   ],
   "source": [
    "X_train.shape, X_valid.shape, X_test.shape"
   ]
  },
  {
   "cell_type": "code",
   "execution_count": 40,
   "metadata": {},
   "outputs": [
    {
     "data": {
      "text/plain": [
       "((45000,), (5000,), (10000,))"
      ]
     },
     "execution_count": 40,
     "metadata": {},
     "output_type": "execute_result"
    }
   ],
   "source": [
    "y_train.shape, y_valid.shape, y_test.shape"
   ]
  },
  {
   "cell_type": "markdown",
   "metadata": {},
   "source": [
    "Find optimal learning rate"
   ]
  },
  {
   "cell_type": "code",
   "execution_count": 79,
   "metadata": {},
   "outputs": [
    {
     "name": "stdout",
     "output_type": "stream",
     "text": [
      "Epoch 1/5\n",
      "88/88 [==============================] - 4s 26ms/step - loss: 3.5401 - accuracy: 0.1151\n",
      "Epoch 2/5\n",
      "88/88 [==============================] - 2s 24ms/step - loss: 2.9488 - accuracy: 0.1581\n",
      "Epoch 3/5\n",
      "88/88 [==============================] - 2s 26ms/step - loss: 704167680.0000 - accuracy: 0.1010\n",
      "Epoch 4/5\n",
      "88/88 [==============================] - 2s 24ms/step - loss: 3.3170 - accuracy: 0.1002\n",
      "Epoch 5/5\n",
      "88/88 [==============================] - 2s 22ms/step - loss: 104.0750 - accuracy: 0.1026\n"
     ]
    }
   ],
   "source": [
    "base_cifar = build_cifar()\n",
    "lr_finder = LRFinder(base_cifar)\n",
    "lr_finder.find(X_train, y_train, start_lr=1e-6, end_lr=100, batch_size=512, epochs=5)"
   ]
  },
  {
   "cell_type": "code",
   "execution_count": 80,
   "metadata": {},
   "outputs": [
    {
     "data": {
      "image/png": "[encoded data removed]",
      "text/plain": [
       "<Figure size 432x288 with 1 Axes>"
      ]
     },
     "metadata": {
      "needs_background": "light"
     },
     "output_type": "display_data"
    }
   ],
   "source": [
    "lr_finder.plot_loss(xlim=(1e-5, 1e-2), ylim=(2, 3))\n",
    "plt.show()"
   ]
  },
  {
   "cell_type": "code",
   "execution_count": 81,
   "metadata": {},
   "outputs": [
    {
     "name": "stdout",
     "output_type": "stream",
     "text": [
      "Epoch 1/100\n",
      "1407/1407 [==============================] - 17s 12ms/step - loss: 1.9996 - accuracy: 0.2728 - val_loss: 1.8797 - val_accuracy: 0.3226\n",
      "Epoch 2/100\n",
      "1407/1407 [==============================] - 13s 9ms/step - loss: 1.7850 - accuracy: 0.3539 - val_loss: 1.7658 - val_accuracy: 0.3530\n",
      "Epoch 3/100\n",
      "1407/1407 [==============================] - 13s 9ms/step - loss: 1.6964 - accuracy: 0.3918 - val_loss: 1.7924 - val_accuracy: 0.3576\n",
      "Epoch 4/100\n",
      "1407/1407 [==============================] - 14s 10ms/step - loss: 1.6386 - accuracy: 0.4138 - val_loss: 1.6854 - val_accuracy: 0.3888\n",
      "Epoch 5/100\n",
      "1407/1407 [==============================] - 13s 9ms/step - loss: 1.5942 - accuracy: 0.4288 - val_loss: 1.6369 - val_accuracy: 0.4094\n",
      "Epoch 6/100\n",
      "1407/1407 [==============================] - 13s 9ms/step - loss: 1.5568 - accuracy: 0.4429 - val_loss: 1.5939 - val_accuracy: 0.4240\n",
      "Epoch 7/100\n",
      "1407/1407 [==============================] - 13s 9ms/step - loss: 1.5246 - accuracy: 0.4530 - val_loss: 1.5934 - val_accuracy: 0.4254\n",
      "Epoch 8/100\n",
      "1407/1407 [==============================] - 13s 9ms/step - loss: 1.4980 - accuracy: 0.4632 - val_loss: 1.6399 - val_accuracy: 0.4126\n",
      "Epoch 9/100\n",
      "1407/1407 [==============================] - 13s 9ms/step - loss: 1.4705 - accuracy: 0.4756 - val_loss: 1.5873 - val_accuracy: 0.4310\n",
      "Epoch 10/100\n",
      "1407/1407 [==============================] - 13s 9ms/step - loss: 1.4482 - accuracy: 0.4837 - val_loss: 1.6149 - val_accuracy: 0.4274\n",
      "Epoch 11/100\n",
      "1407/1407 [==============================] - 13s 9ms/step - loss: 1.4309 - accuracy: 0.4909 - val_loss: 1.5918 - val_accuracy: 0.4358\n",
      "Epoch 12/100\n",
      "1407/1407 [==============================] - 13s 9ms/step - loss: 1.4123 - accuracy: 0.4948 - val_loss: 1.5550 - val_accuracy: 0.4490\n",
      "Epoch 13/100\n",
      "1407/1407 [==============================] - 13s 9ms/step - loss: 1.3899 - accuracy: 0.5055 - val_loss: 1.5760 - val_accuracy: 0.4326\n",
      "Epoch 14/100\n",
      "1407/1407 [==============================] - 13s 9ms/step - loss: 1.3790 - accuracy: 0.5061 - val_loss: 1.5208 - val_accuracy: 0.4580\n",
      "Epoch 15/100\n",
      "1407/1407 [==============================] - 13s 9ms/step - loss: 1.3658 - accuracy: 0.5101 - val_loss: 1.5376 - val_accuracy: 0.4516\n",
      "Epoch 16/100\n",
      "1407/1407 [==============================] - 13s 9ms/step - loss: 1.3511 - accuracy: 0.5162 - val_loss: 1.5267 - val_accuracy: 0.4610\n",
      "Epoch 17/100\n",
      "1407/1407 [==============================] - 13s 9ms/step - loss: 1.3365 - accuracy: 0.5224 - val_loss: 1.5330 - val_accuracy: 0.4456\n",
      "Epoch 18/100\n",
      "1407/1407 [==============================] - 13s 9ms/step - loss: 1.3211 - accuracy: 0.5284 - val_loss: 1.5218 - val_accuracy: 0.4646\n",
      "Epoch 19/100\n",
      "1407/1407 [==============================] - 13s 9ms/step - loss: 1.3039 - accuracy: 0.5344 - val_loss: 1.6176 - val_accuracy: 0.4354\n",
      "Epoch 20/100\n",
      "1407/1407 [==============================] - 13s 9ms/step - loss: 1.2940 - accuracy: 0.5358 - val_loss: 1.5268 - val_accuracy: 0.4618\n",
      "Epoch 21/100\n",
      "1407/1407 [==============================] - 14s 10ms/step - loss: 1.2785 - accuracy: 0.5418 - val_loss: 1.5087 - val_accuracy: 0.4728\n",
      "Epoch 22/100\n",
      "1407/1407 [==============================] - 14s 10ms/step - loss: 1.2591 - accuracy: 0.5481 - val_loss: 1.5171 - val_accuracy: 0.4754\n",
      "Epoch 23/100\n",
      "1407/1407 [==============================] - 13s 9ms/step - loss: 1.2482 - accuracy: 0.5534 - val_loss: 1.5068 - val_accuracy: 0.4698\n",
      "Epoch 24/100\n",
      "1407/1407 [==============================] - 13s 10ms/step - loss: 1.2323 - accuracy: 0.5593 - val_loss: 1.5015 - val_accuracy: 0.4760\n",
      "Epoch 25/100\n",
      "1407/1407 [==============================] - 13s 9ms/step - loss: 1.2190 - accuracy: 0.5643 - val_loss: 1.5043 - val_accuracy: 0.4700\n",
      "Epoch 26/100\n",
      "1407/1407 [==============================] - 14s 10ms/step - loss: 1.2052 - accuracy: 0.5690 - val_loss: 1.4951 - val_accuracy: 0.4862\n",
      "Epoch 27/100\n",
      "1407/1407 [==============================] - 14s 10ms/step - loss: 1.1890 - accuracy: 0.5764 - val_loss: 1.5537 - val_accuracy: 0.4526\n",
      "Epoch 28/100\n",
      "1407/1407 [==============================] - 15s 10ms/step - loss: 1.1731 - accuracy: 0.5794 - val_loss: 1.4923 - val_accuracy: 0.4700\n",
      "Epoch 29/100\n",
      "1407/1407 [==============================] - 13s 10ms/step - loss: 1.1587 - accuracy: 0.5842 - val_loss: 1.4709 - val_accuracy: 0.4846\n",
      "Epoch 30/100\n",
      "1407/1407 [==============================] - 13s 9ms/step - loss: 1.1421 - accuracy: 0.5918 - val_loss: 1.4837 - val_accuracy: 0.4824\n",
      "Epoch 31/100\n",
      "1407/1407 [==============================] - 13s 10ms/step - loss: 1.1294 - accuracy: 0.5960 - val_loss: 1.4938 - val_accuracy: 0.4880\n",
      "Epoch 32/100\n",
      "1407/1407 [==============================] - 13s 9ms/step - loss: 1.1094 - accuracy: 0.6022 - val_loss: 1.5088 - val_accuracy: 0.4734\n",
      "Epoch 33/100\n",
      "1407/1407 [==============================] - 13s 9ms/step - loss: 1.0969 - accuracy: 0.6079 - val_loss: 1.4810 - val_accuracy: 0.4904\n",
      "Epoch 34/100\n",
      "1407/1407 [==============================] - 14s 10ms/step - loss: 1.0786 - accuracy: 0.6136 - val_loss: 1.5111 - val_accuracy: 0.4890\n",
      "Epoch 35/100\n",
      "1407/1407 [==============================] - 14s 10ms/step - loss: 1.0651 - accuracy: 0.6200 - val_loss: 1.5191 - val_accuracy: 0.4860\n",
      "Epoch 36/100\n",
      "1407/1407 [==============================] - 14s 10ms/step - loss: 1.0498 - accuracy: 0.6203 - val_loss: 1.5461 - val_accuracy: 0.4796\n",
      "Epoch 37/100\n",
      "1407/1407 [==============================] - 13s 10ms/step - loss: 1.0339 - accuracy: 0.6293 - val_loss: 1.5662 - val_accuracy: 0.4796\n",
      "Epoch 38/100\n",
      "1407/1407 [==============================] - 14s 10ms/step - loss: 1.0213 - accuracy: 0.6341 - val_loss: 1.5510 - val_accuracy: 0.4830\n",
      "Epoch 39/100\n",
      "1407/1407 [==============================] - 14s 10ms/step - loss: 1.0052 - accuracy: 0.6416 - val_loss: 1.5726 - val_accuracy: 0.4778\n"
     ]
    },
    {
     "data": {
      "text/plain": [
       "<keras.callbacks.History at 0x7ff3b438b9e8>"
      ]
     },
     "execution_count": 81,
     "metadata": {},
     "output_type": "execute_result"
    }
   ],
   "source": [
    "K.set_value(base_cifar.optimizer.learning_rate, 1e-4)\n",
    "base_cifar.fit(\n",
    "    X_train, y_train, epochs=100,\n",
    "    validation_data=(X_valid, y_valid),\n",
    "    callbacks=[early_stopping_cb])"
   ]
  },
  {
   "cell_type": "markdown",
   "metadata": {},
   "source": [
    "- **Now try adding Batch Normalization and compare the learning curves: Is it converging faster than before? Does it produce a better model? How does it affect training speed?**"
   ]
  },
  {
   "cell_type": "code",
   "execution_count": 83,
   "metadata": {},
   "outputs": [
    {
     "name": "stdout",
     "output_type": "stream",
     "text": [
      "Epoch 1/5\n",
      "88/88 [==============================] - 9s 42ms/step - loss: 3.2480 - accuracy: 0.0952\n",
      "Epoch 2/5\n",
      "88/88 [==============================] - 4s 40ms/step - loss: 2.3327 - accuracy: 0.2192\n",
      "Epoch 3/5\n",
      "88/88 [==============================] - 4s 40ms/step - loss: 2.0069 - accuracy: 0.2995\n",
      "Epoch 4/5\n",
      "88/88 [==============================] - 4s 40ms/step - loss: 117.7062 - accuracy: 0.1161\n",
      "Epoch 5/5\n",
      "88/88 [==============================] - 4s 40ms/step - loss: 44831.0938 - accuracy: 0.0997\n"
     ]
    }
   ],
   "source": [
    "bn_cifar = build_cifar(batch_normalization=True)\n",
    "lr_finder = LRFinder(bn_cifar)\n",
    "lr_finder.find(X_train, y_train, start_lr=1e-6, end_lr=100, batch_size=512, epochs=5)"
   ]
  },
  {
   "cell_type": "code",
   "execution_count": 91,
   "metadata": {},
   "outputs": [
    {
     "data": {
      "image/png": "[encoded data removed]",
      "text/plain": [
       "<Figure size 432x288 with 1 Axes>"
      ]
     },
     "metadata": {
      "needs_background": "light"
     },
     "output_type": "display_data"
    }
   ],
   "source": [
    "lr_finder.plot_loss(xlim=(1e-6, 1), ylim=(0,4))\n",
    "plt.show()"
   ]
  },
  {
   "cell_type": "code",
   "execution_count": 92,
   "metadata": {},
   "outputs": [
    {
     "name": "stdout",
     "output_type": "stream",
     "text": [
      "Epoch 1/100\n",
      "1407/1407 [==============================] - 24s 17ms/step - loss: 1.9971 - accuracy: 0.2861 - val_loss: 1.8837 - val_accuracy: 0.3278\n",
      "Epoch 2/100\n",
      "1407/1407 [==============================] - 25s 18ms/step - loss: 1.8719 - accuracy: 0.3291 - val_loss: 1.7761 - val_accuracy: 0.3558\n",
      "Epoch 3/100\n",
      "1407/1407 [==============================] - 25s 18ms/step - loss: 1.7855 - accuracy: 0.3598 - val_loss: 1.7333 - val_accuracy: 0.3712\n",
      "Epoch 4/100\n",
      "1407/1407 [==============================] - 23s 16ms/step - loss: 1.7286 - accuracy: 0.3819 - val_loss: 1.6729 - val_accuracy: 0.3914\n",
      "Epoch 5/100\n",
      "1407/1407 [==============================] - 22s 16ms/step - loss: 1.6874 - accuracy: 0.3987 - val_loss: 1.6277 - val_accuracy: 0.4142\n",
      "Epoch 6/100\n",
      "1407/1407 [==============================] - 22s 16ms/step - loss: 1.6604 - accuracy: 0.4084 - val_loss: 1.5907 - val_accuracy: 0.4332\n",
      "Epoch 7/100\n",
      "1407/1407 [==============================] - 22s 15ms/step - loss: 1.6319 - accuracy: 0.4197 - val_loss: 1.6221 - val_accuracy: 0.4302\n",
      "Epoch 8/100\n",
      "1407/1407 [==============================] - 22s 15ms/step - loss: 1.6034 - accuracy: 0.4330 - val_loss: 1.6038 - val_accuracy: 0.4222\n",
      "Epoch 9/100\n",
      "1407/1407 [==============================] - 22s 15ms/step - loss: 1.5816 - accuracy: 0.4407 - val_loss: 1.5618 - val_accuracy: 0.4452\n",
      "Epoch 10/100\n",
      "1407/1407 [==============================] - 22s 15ms/step - loss: 1.5591 - accuracy: 0.4519 - val_loss: 1.5593 - val_accuracy: 0.4384\n",
      "Epoch 11/100\n",
      "1407/1407 [==============================] - 22s 16ms/step - loss: 1.5321 - accuracy: 0.4603 - val_loss: 1.5525 - val_accuracy: 0.4532\n",
      "Epoch 12/100\n",
      "1407/1407 [==============================] - 22s 15ms/step - loss: 1.5073 - accuracy: 0.4680 - val_loss: 1.5181 - val_accuracy: 0.4760\n",
      "Epoch 13/100\n",
      "1407/1407 [==============================] - 22s 15ms/step - loss: 1.4835 - accuracy: 0.4774 - val_loss: 1.4956 - val_accuracy: 0.4726\n",
      "Epoch 14/100\n",
      "1407/1407 [==============================] - 22s 15ms/step - loss: 1.4601 - accuracy: 0.4852 - val_loss: 1.4851 - val_accuracy: 0.4684\n",
      "Epoch 15/100\n",
      "1407/1407 [==============================] - 22s 16ms/step - loss: 1.4332 - accuracy: 0.4950 - val_loss: 1.4625 - val_accuracy: 0.4882\n",
      "Epoch 16/100\n",
      "1407/1407 [==============================] - 22s 16ms/step - loss: 1.4059 - accuracy: 0.5083 - val_loss: 1.4526 - val_accuracy: 0.4876\n",
      "Epoch 17/100\n",
      "1407/1407 [==============================] - 22s 16ms/step - loss: 1.3792 - accuracy: 0.5154 - val_loss: 1.4527 - val_accuracy: 0.4912\n",
      "Epoch 18/100\n",
      "1407/1407 [==============================] - 22s 16ms/step - loss: 1.3667 - accuracy: 0.5215 - val_loss: 1.4293 - val_accuracy: 0.4990\n",
      "Epoch 19/100\n",
      "1407/1407 [==============================] - 22s 15ms/step - loss: 1.3375 - accuracy: 0.5288 - val_loss: 1.4455 - val_accuracy: 0.4900\n",
      "Epoch 20/100\n",
      "1407/1407 [==============================] - 22s 15ms/step - loss: 1.3216 - accuracy: 0.5384 - val_loss: 1.3916 - val_accuracy: 0.5156\n",
      "Epoch 21/100\n",
      "1407/1407 [==============================] - 22s 15ms/step - loss: 1.2995 - accuracy: 0.5448 - val_loss: 1.3997 - val_accuracy: 0.5112\n",
      "Epoch 22/100\n",
      "1407/1407 [==============================] - 22s 16ms/step - loss: 1.2817 - accuracy: 0.5527 - val_loss: 1.3845 - val_accuracy: 0.5124\n",
      "Epoch 23/100\n",
      "1407/1407 [==============================] - 23s 16ms/step - loss: 1.2599 - accuracy: 0.5593 - val_loss: 1.3783 - val_accuracy: 0.5174\n",
      "Epoch 24/100\n",
      "1407/1407 [==============================] - 23s 16ms/step - loss: 1.2469 - accuracy: 0.5659 - val_loss: 1.3992 - val_accuracy: 0.5188\n",
      "Epoch 25/100\n",
      "1407/1407 [==============================] - 22s 16ms/step - loss: 1.2312 - accuracy: 0.5708 - val_loss: 1.4007 - val_accuracy: 0.5098\n",
      "Epoch 26/100\n",
      "1407/1407 [==============================] - 22s 16ms/step - loss: 1.2142 - accuracy: 0.5748 - val_loss: 1.4048 - val_accuracy: 0.5190\n",
      "Epoch 27/100\n",
      "1407/1407 [==============================] - 22s 15ms/step - loss: 1.2009 - accuracy: 0.5800 - val_loss: 1.4150 - val_accuracy: 0.5108\n",
      "Epoch 28/100\n",
      "1407/1407 [==============================] - 22s 16ms/step - loss: 1.1824 - accuracy: 0.5910 - val_loss: 1.3877 - val_accuracy: 0.5250\n",
      "Epoch 29/100\n",
      "1407/1407 [==============================] - 22s 16ms/step - loss: 1.1712 - accuracy: 0.5924 - val_loss: 1.3750 - val_accuracy: 0.5190\n",
      "Epoch 30/100\n",
      "1407/1407 [==============================] - 22s 15ms/step - loss: 1.1648 - accuracy: 0.5965 - val_loss: 1.3940 - val_accuracy: 0.5134\n",
      "Epoch 31/100\n",
      "1407/1407 [==============================] - 22s 16ms/step - loss: 1.1437 - accuracy: 0.6032 - val_loss: 1.3722 - val_accuracy: 0.5310\n",
      "Epoch 32/100\n",
      "1407/1407 [==============================] - 22s 16ms/step - loss: 1.1359 - accuracy: 0.6053 - val_loss: 1.3628 - val_accuracy: 0.5272\n",
      "Epoch 33/100\n",
      "1407/1407 [==============================] - 22s 15ms/step - loss: 1.1197 - accuracy: 0.6108 - val_loss: 1.3741 - val_accuracy: 0.5228\n",
      "Epoch 34/100\n",
      "1407/1407 [==============================] - 23s 16ms/step - loss: 1.1102 - accuracy: 0.6149 - val_loss: 1.4018 - val_accuracy: 0.5188\n",
      "Epoch 35/100\n",
      "1407/1407 [==============================] - 24s 17ms/step - loss: 1.1002 - accuracy: 0.6186 - val_loss: 1.3890 - val_accuracy: 0.5326\n",
      "Epoch 36/100\n",
      "1407/1407 [==============================] - 25s 18ms/step - loss: 1.0892 - accuracy: 0.6214 - val_loss: 1.4072 - val_accuracy: 0.5160\n",
      "Epoch 37/100\n",
      "1407/1407 [==============================] - 24s 17ms/step - loss: 1.0836 - accuracy: 0.6217 - val_loss: 1.3882 - val_accuracy: 0.5246\n",
      "Epoch 38/100\n",
      "1407/1407 [==============================] - 24s 17ms/step - loss: 1.0617 - accuracy: 0.6317 - val_loss: 1.4229 - val_accuracy: 0.5178\n",
      "Epoch 39/100\n",
      "1407/1407 [==============================] - 23s 16ms/step - loss: 1.0610 - accuracy: 0.6331 - val_loss: 1.4121 - val_accuracy: 0.5232\n",
      "Epoch 40/100\n",
      "1407/1407 [==============================] - 23s 16ms/step - loss: 1.0469 - accuracy: 0.6358 - val_loss: 1.3905 - val_accuracy: 0.5198\n",
      "Epoch 41/100\n",
      "1407/1407 [==============================] - 23s 16ms/step - loss: 1.0396 - accuracy: 0.6383 - val_loss: 1.3958 - val_accuracy: 0.5288\n",
      "Epoch 42/100\n",
      "1407/1407 [==============================] - 23s 16ms/step - loss: 1.0390 - accuracy: 0.6393 - val_loss: 1.4076 - val_accuracy: 0.5214\n"
     ]
    },
    {
     "data": {
      "text/plain": [
       "<keras.callbacks.History at 0x7ff468b9cc50>"
      ]
     },
     "execution_count": 92,
     "metadata": {},
     "output_type": "execute_result"
    }
   ],
   "source": [
    "K.set_value(bn_cifar.optimizer.learning_rate, 1e-3)\n",
    "bn_cifar.fit(\n",
    "    X_train, y_train, epochs=100,\n",
    "    validation_data=(X_valid, y_valid),\n",
    "    callbacks=[early_stopping_cb])"
   ]
  },
  {
   "cell_type": "markdown",
   "metadata": {},
   "source": [
    "- **Try replacing Batch Normalization with SELU, and make the necessary adjustments to ensure the network self-normalizes (i.e., standardize the input features, use LeCun normal initialization, make sure the DNN contains only a sequence of dense layers, etc.).**"
   ]
  },
  {
   "cell_type": "code",
   "execution_count": 6,
   "metadata": {},
   "outputs": [],
   "source": [
    "X_train_scaled = (X_train - X_train.mean()) / X_train.std()\n",
    "X_valid_scaled = (X_valid - X_valid.mean()) / X_valid.std()"
   ]
  },
  {
   "cell_type": "code",
   "execution_count": 8,
   "metadata": {},
   "outputs": [
    {
     "name": "stdout",
     "output_type": "stream",
     "text": [
      "Epoch 1/5\n",
      "88/88 [==============================] - 4s 25ms/step - loss: 2.5615 - accuracy: 0.1274\n",
      "Epoch 2/5\n",
      "88/88 [==============================] - 2s 25ms/step - loss: 2.5247 - accuracy: 0.1758\n",
      "Epoch 3/5\n",
      "88/88 [==============================] - 2s 21ms/step - loss: 7295250432.0000 - accuracy: 0.0975\n"
     ]
    }
   ],
   "source": [
    "norm_cifar = build_cifar(activation='selu', kernel_initializer='lecun_normal')\n",
    "lr_finder = LRFinder(norm_cifar)\n",
    "lr_finder.find(X_train, y_train, start_lr=1e-6, end_lr=100, batch_size=512, epochs=5)"
   ]
  },
  {
   "cell_type": "code",
   "execution_count": 9,
   "metadata": {},
   "outputs": [
    {
     "data": {
      "image/png": "[encoded data removed]",
      "text/plain": [
       "<Figure size 432x288 with 1 Axes>"
      ]
     },
     "metadata": {
      "needs_background": "light"
     },
     "output_type": "display_data"
    }
   ],
   "source": [
    "lr_finder.plot_loss()\n",
    "plt.show()"
   ]
  },
  {
   "cell_type": "code",
   "execution_count": 10,
   "metadata": {},
   "outputs": [
    {
     "name": "stdout",
     "output_type": "stream",
     "text": [
      "Epoch 1/100\n",
      "1407/1407 [==============================] - 13s 9ms/step - loss: 1.8899 - accuracy: 0.3216 - val_loss: 1.9213 - val_accuracy: 0.2854\n",
      "Epoch 2/100\n",
      "1407/1407 [==============================] - 12s 9ms/step - loss: 1.7152 - accuracy: 0.3836 - val_loss: 1.7453 - val_accuracy: 0.3826\n",
      "Epoch 3/100\n",
      "1407/1407 [==============================] - 12s 9ms/step - loss: 1.6396 - accuracy: 0.4189 - val_loss: 1.7026 - val_accuracy: 0.3982\n",
      "Epoch 4/100\n",
      "1407/1407 [==============================] - 12s 9ms/step - loss: 1.5942 - accuracy: 0.4340 - val_loss: 1.6451 - val_accuracy: 0.4204\n",
      "Epoch 5/100\n",
      "1407/1407 [==============================] - 12s 9ms/step - loss: 1.5572 - accuracy: 0.4479 - val_loss: 1.6641 - val_accuracy: 0.4072\n",
      "Epoch 6/100\n",
      "1407/1407 [==============================] - 14s 10ms/step - loss: 1.5217 - accuracy: 0.4629 - val_loss: 1.7025 - val_accuracy: 0.4028\n",
      "Epoch 7/100\n",
      "1407/1407 [==============================] - 13s 9ms/step - loss: 1.5019 - accuracy: 0.4706 - val_loss: 1.6140 - val_accuracy: 0.4342\n",
      "Epoch 8/100\n",
      "1407/1407 [==============================] - 13s 9ms/step - loss: 1.4771 - accuracy: 0.4784 - val_loss: 1.6337 - val_accuracy: 0.4126\n",
      "Epoch 9/100\n",
      "1407/1407 [==============================] - 12s 9ms/step - loss: 1.4554 - accuracy: 0.4870 - val_loss: 1.6181 - val_accuracy: 0.4336\n",
      "Epoch 10/100\n",
      "1407/1407 [==============================] - 12s 9ms/step - loss: 1.4394 - accuracy: 0.4896 - val_loss: 1.6226 - val_accuracy: 0.4262\n",
      "Epoch 11/100\n",
      "1407/1407 [==============================] - 12s 9ms/step - loss: 1.4231 - accuracy: 0.4993 - val_loss: 1.6083 - val_accuracy: 0.4342\n",
      "Epoch 12/100\n",
      "1407/1407 [==============================] - 11s 8ms/step - loss: 1.4083 - accuracy: 0.5044 - val_loss: 1.6184 - val_accuracy: 0.4338\n",
      "Epoch 13/100\n",
      "1407/1407 [==============================] - 11s 8ms/step - loss: 1.4014 - accuracy: 0.5070 - val_loss: 1.6235 - val_accuracy: 0.4432\n",
      "Epoch 14/100\n",
      "1407/1407 [==============================] - 12s 8ms/step - loss: 1.3947 - accuracy: 0.5091 - val_loss: 1.5865 - val_accuracy: 0.4476\n",
      "Epoch 15/100\n",
      "1407/1407 [==============================] - 12s 8ms/step - loss: 1.3869 - accuracy: 0.5135 - val_loss: 1.6045 - val_accuracy: 0.4400\n",
      "Epoch 16/100\n",
      "1407/1407 [==============================] - 12s 9ms/step - loss: 1.3738 - accuracy: 0.5178 - val_loss: 1.6045 - val_accuracy: 0.4430\n",
      "Epoch 17/100\n",
      "1407/1407 [==============================] - 12s 8ms/step - loss: 1.3609 - accuracy: 0.5239 - val_loss: 1.5624 - val_accuracy: 0.4596\n",
      "Epoch 18/100\n",
      "1407/1407 [==============================] - 13s 9ms/step - loss: 1.3497 - accuracy: 0.5284 - val_loss: 1.5763 - val_accuracy: 0.4490\n",
      "Epoch 19/100\n",
      "1407/1407 [==============================] - 13s 9ms/step - loss: 1.3335 - accuracy: 0.5381 - val_loss: 1.5831 - val_accuracy: 0.4550\n",
      "Epoch 20/100\n",
      "1407/1407 [==============================] - 13s 9ms/step - loss: 1.3236 - accuracy: 0.5392 - val_loss: 1.5861 - val_accuracy: 0.4580\n",
      "Epoch 21/100\n",
      "1407/1407 [==============================] - 12s 9ms/step - loss: 1.3108 - accuracy: 0.5473 - val_loss: 1.6086 - val_accuracy: 0.4596\n",
      "Epoch 22/100\n",
      "1407/1407 [==============================] - 13s 9ms/step - loss: 1.3021 - accuracy: 0.5501 - val_loss: 1.5771 - val_accuracy: 0.4618\n",
      "Epoch 23/100\n",
      "1407/1407 [==============================] - 12s 9ms/step - loss: 1.3059 - accuracy: 0.5483 - val_loss: 1.6199 - val_accuracy: 0.4614\n",
      "Epoch 24/100\n",
      "1407/1407 [==============================] - 12s 9ms/step - loss: 1.2932 - accuracy: 0.5552 - val_loss: 1.6251 - val_accuracy: 0.4636\n",
      "Epoch 25/100\n",
      "1407/1407 [==============================] - 12s 9ms/step - loss: 1.2962 - accuracy: 0.5532 - val_loss: 1.5747 - val_accuracy: 0.4730\n",
      "Epoch 26/100\n",
      "1407/1407 [==============================] - 12s 9ms/step - loss: 1.5510 - accuracy: 0.4862 - val_loss: 1.9002 - val_accuracy: 0.3002\n",
      "Epoch 27/100\n",
      "1407/1407 [==============================] - 12s 9ms/step - loss: 1.5751 - accuracy: 0.4346 - val_loss: 1.6056 - val_accuracy: 0.4248\n"
     ]
    },
    {
     "data": {
      "text/plain": [
       "<keras.callbacks.History at 0x7f3013f0dfd0>"
      ]
     },
     "execution_count": 10,
     "metadata": {},
     "output_type": "execute_result"
    }
   ],
   "source": [
    "K.set_value(norm_cifar.optimizer.learning_rate, 1e-3)\n",
    "norm_cifar.fit(\n",
    "    X_train_scaled, y_train, epochs=100,\n",
    "    validation_data=(X_valid_scaled, y_valid),\n",
    "    callbacks=[early_stopping_cb])"
   ]
  },
  {
   "cell_type": "markdown",
   "metadata": {},
   "source": [
    "- **Try regularizing the model with alpha dropout. Then, without retraining your model, see if you can achieve better accuracy using MC Dropout.**"
   ]
  },
  {
   "cell_type": "code",
   "execution_count": 31,
   "metadata": {},
   "outputs": [
    {
     "name": "stdout",
     "output_type": "stream",
     "text": [
      "Epoch 1/5\n",
      "88/88 [==============================] - 6s 40ms/step - loss: 3.7121 - accuracy: 0.0992\n",
      "Epoch 2/5\n",
      "88/88 [==============================] - 3s 40ms/step - loss: 3.2130 - accuracy: 0.0986\n",
      "Epoch 3/5\n",
      "88/88 [==============================] - 3s 37ms/step - loss: 8829256335360.0000 - accuracy: 0.1025\n"
     ]
    }
   ],
   "source": [
    "drop_cifar = build_cifar(dropout=True)\n",
    "lr_finder = LRFinder(drop_cifar)\n",
    "lr_finder.find(X_train, y_train, start_lr=1e-6, end_lr=100, batch_size=512, epochs=5)"
   ]
  },
  {
   "cell_type": "code",
   "execution_count": 32,
   "metadata": {},
   "outputs": [
    {
     "data": {
      "image/png": "[encoded data removed]",
      "text/plain": [
       "<Figure size 432x288 with 1 Axes>"
      ]
     },
     "metadata": {
      "needs_background": "light"
     },
     "output_type": "display_data"
    }
   ],
   "source": [
    "lr_finder.plot_loss(xlim=(2e-2,6e-2), ylim=(2,3))\n",
    "plt.show()"
   ]
  },
  {
   "cell_type": "code",
   "execution_count": 33,
   "metadata": {},
   "outputs": [
    {
     "name": "stdout",
     "output_type": "stream",
     "text": [
      "Epoch 1/100\n",
      "1407/1407 [==============================] - 16s 12ms/step - loss: 210198432.0000 - accuracy: 0.1002 - val_loss: 2.3095 - val_accuracy: 0.0952\n",
      "Epoch 2/100\n",
      "1407/1407 [==============================] - 15s 11ms/step - loss: 692484.1875 - accuracy: 0.0999 - val_loss: 2.3173 - val_accuracy: 0.1018\n",
      "Epoch 3/100\n",
      "1407/1407 [==============================] - 15s 11ms/step - loss: 77.6134 - accuracy: 0.0996 - val_loss: 2.3144 - val_accuracy: 0.0972\n",
      "Epoch 4/100\n",
      "1407/1407 [==============================] - 15s 11ms/step - loss: 4.2360 - accuracy: 0.1023 - val_loss: 2.3131 - val_accuracy: 0.1008\n",
      "Epoch 5/100\n",
      "1407/1407 [==============================] - 14s 10ms/step - loss: 3.6521 - accuracy: 0.1016 - val_loss: 2.3229 - val_accuracy: 0.1054\n",
      "Epoch 6/100\n",
      "1407/1407 [==============================] - 14s 10ms/step - loss: 66.4436 - accuracy: 0.1005 - val_loss: 2.3123 - val_accuracy: 0.1018\n",
      "Epoch 7/100\n",
      "1407/1407 [==============================] - 14s 10ms/step - loss: 6.6484 - accuracy: 0.1016 - val_loss: 2.3235 - val_accuracy: 0.0972\n",
      "Epoch 8/100\n",
      "1407/1407 [==============================] - 16s 11ms/step - loss: 4.5436 - accuracy: 0.1006 - val_loss: 2.3308 - val_accuracy: 0.1054\n",
      "Epoch 9/100\n",
      "1407/1407 [==============================] - 15s 11ms/step - loss: 4.2111 - accuracy: 0.0987 - val_loss: 2.3211 - val_accuracy: 0.1018\n",
      "Epoch 10/100\n",
      "1407/1407 [==============================] - 15s 11ms/step - loss: 9.9824 - accuracy: 0.1005 - val_loss: 2.3419 - val_accuracy: 0.1054\n",
      "Epoch 11/100\n",
      "1407/1407 [==============================] - 15s 11ms/step - loss: 85362679808.0000 - accuracy: 0.1007 - val_loss: 2.3565 - val_accuracy: 0.1000\n"
     ]
    },
    {
     "data": {
      "text/plain": [
       "<keras.callbacks.History at 0x7f30101a72e8>"
      ]
     },
     "execution_count": 33,
     "metadata": {},
     "output_type": "execute_result"
    }
   ],
   "source": [
    "K.set_value(drop_cifar.optimizer.learning_rate, 5e-2)\n",
    "drop_cifar.fit(\n",
    "    X_train, y_train, epochs=100,\n",
    "    validation_data=(X_valid, y_valid),\n",
    "    callbacks=[early_stopping_cb])"
   ]
  },
  {
   "cell_type": "code",
   "execution_count": 35,
   "metadata": {},
   "outputs": [],
   "source": [
    "y_probas = np.stack([drop_cifar(X_valid, training=False) for _ in range(100)])\n",
    "y_proba = y_probas.mean(axis=0)"
   ]
  },
  {
   "cell_type": "code",
   "execution_count": 36,
   "metadata": {},
   "outputs": [
    {
     "name": "stdout",
     "output_type": "stream",
     "text": [
      "0.0952\n"
     ]
    }
   ],
   "source": [
    "score = 0\n",
    "for i, instance in enumerate(y_proba):\n",
    "    if y_valid[i] == instance.argmax():\n",
    "        score += 1\n",
    "print(score / len(X_valid))"
   ]
  },
  {
   "cell_type": "markdown",
   "metadata": {},
   "source": [
    "- **Retrain your model using 1cycle scheduling and see if it improves training speed and model accuracy.**"
   ]
  },
  {
   "cell_type": "code",
   "execution_count": 45,
   "metadata": {},
   "outputs": [],
   "source": [
    "def one_cycle_schedule(lrmin=1e-6, lrmax=1e-2, time=20):\n",
    "    def one_cycle_fn(epoch):\n",
    "        climb = (lrmax-lrmin) / time\n",
    "        if epoch < time:\n",
    "            return lrmin + climb * epoch\n",
    "        else:\n",
    "            lr = lrmax - climb * (epoch-time)\n",
    "            return lr if lr < lrmin else lr / 10.0\n",
    "    return one_cycle_fn\n",
    "\n",
    "one_cycle_cb = keras.callbacks.LearningRateScheduler(one_cycle_schedule(lrmin=1e-5, lrmax=1e-4, time=20))"
   ]
  },
  {
   "cell_type": "code",
   "execution_count": 46,
   "metadata": {},
   "outputs": [
    {
     "name": "stdout",
     "output_type": "stream",
     "text": [
      "Epoch 1/100\n",
      "1407/1407 [==============================] - 14s 9ms/step - loss: 2.0905 - accuracy: 0.2488 - val_loss: 1.9122 - val_accuracy: 0.3040\n",
      "Epoch 2/100\n",
      "1407/1407 [==============================] - 12s 8ms/step - loss: 1.8392 - accuracy: 0.3319 - val_loss: 1.8219 - val_accuracy: 0.3378\n",
      "Epoch 3/100\n",
      "1407/1407 [==============================] - 12s 8ms/step - loss: 1.7467 - accuracy: 0.3684 - val_loss: 1.7547 - val_accuracy: 0.3558\n",
      "Epoch 4/100\n",
      "1407/1407 [==============================] - 12s 9ms/step - loss: 1.6809 - accuracy: 0.3919 - val_loss: 1.6879 - val_accuracy: 0.3916\n",
      "Epoch 5/100\n",
      "1407/1407 [==============================] - 12s 8ms/step - loss: 1.6292 - accuracy: 0.4106 - val_loss: 1.6345 - val_accuracy: 0.4180\n",
      "Epoch 6/100\n",
      "1407/1407 [==============================] - 12s 9ms/step - loss: 1.5873 - accuracy: 0.4261 - val_loss: 1.6649 - val_accuracy: 0.4028\n",
      "Epoch 7/100\n",
      "1407/1407 [==============================] - 12s 8ms/step - loss: 1.5520 - accuracy: 0.4414 - val_loss: 1.6160 - val_accuracy: 0.4128\n",
      "Epoch 8/100\n",
      "1407/1407 [==============================] - 12s 8ms/step - loss: 1.5214 - accuracy: 0.4543 - val_loss: 1.5631 - val_accuracy: 0.4402\n",
      "Epoch 9/100\n",
      "1407/1407 [==============================] - 12s 9ms/step - loss: 1.4979 - accuracy: 0.4632 - val_loss: 1.6107 - val_accuracy: 0.4224\n",
      "Epoch 10/100\n",
      "1407/1407 [==============================] - 12s 8ms/step - loss: 1.4767 - accuracy: 0.4701 - val_loss: 1.5787 - val_accuracy: 0.4384\n",
      "Epoch 11/100\n",
      "1407/1407 [==============================] - 12s 8ms/step - loss: 1.4569 - accuracy: 0.4780 - val_loss: 1.5248 - val_accuracy: 0.4574\n",
      "Epoch 12/100\n",
      "1407/1407 [==============================] - 12s 8ms/step - loss: 1.4386 - accuracy: 0.4828 - val_loss: 1.5457 - val_accuracy: 0.4450\n",
      "Epoch 13/100\n",
      "1407/1407 [==============================] - 12s 8ms/step - loss: 1.4220 - accuracy: 0.4907 - val_loss: 1.5300 - val_accuracy: 0.4612\n",
      "Epoch 14/100\n",
      "1407/1407 [==============================] - 12s 8ms/step - loss: 1.4032 - accuracy: 0.4972 - val_loss: 1.5344 - val_accuracy: 0.4502\n",
      "Epoch 15/100\n",
      "1407/1407 [==============================] - 12s 8ms/step - loss: 1.3885 - accuracy: 0.5022 - val_loss: 1.5977 - val_accuracy: 0.4282\n",
      "Epoch 16/100\n",
      "1407/1407 [==============================] - 12s 9ms/step - loss: 1.3726 - accuracy: 0.5086 - val_loss: 1.4806 - val_accuracy: 0.4650\n",
      "Epoch 17/100\n",
      "1407/1407 [==============================] - 12s 9ms/step - loss: 1.3565 - accuracy: 0.5151 - val_loss: 1.4514 - val_accuracy: 0.4742\n",
      "Epoch 18/100\n",
      "1407/1407 [==============================] - 12s 9ms/step - loss: 1.3427 - accuracy: 0.5202 - val_loss: 1.4932 - val_accuracy: 0.4704\n",
      "Epoch 19/100\n",
      "1407/1407 [==============================] - 12s 9ms/step - loss: 1.3240 - accuracy: 0.5247 - val_loss: 1.4849 - val_accuracy: 0.4712\n",
      "Epoch 20/100\n",
      "1407/1407 [==============================] - 12s 9ms/step - loss: 1.3127 - accuracy: 0.5304 - val_loss: 1.4892 - val_accuracy: 0.4636\n",
      "Epoch 21/100\n",
      "1407/1407 [==============================] - 12s 8ms/step - loss: 1.1690 - accuracy: 0.5821 - val_loss: 1.4225 - val_accuracy: 0.4946\n",
      "Epoch 22/100\n",
      "1407/1407 [==============================] - 12s 8ms/step - loss: 1.1478 - accuracy: 0.5907 - val_loss: 1.4131 - val_accuracy: 0.5012\n",
      "Epoch 23/100\n",
      "1407/1407 [==============================] - 12s 9ms/step - loss: 1.1368 - accuracy: 0.5958 - val_loss: 1.4259 - val_accuracy: 0.5014\n",
      "Epoch 24/100\n",
      "1407/1407 [==============================] - 12s 8ms/step - loss: 1.1286 - accuracy: 0.5986 - val_loss: 1.4138 - val_accuracy: 0.5018\n",
      "Epoch 25/100\n",
      "1407/1407 [==============================] - 12s 8ms/step - loss: 1.1226 - accuracy: 0.6002 - val_loss: 1.4189 - val_accuracy: 0.5022\n",
      "Epoch 26/100\n",
      "1407/1407 [==============================] - 12s 8ms/step - loss: 1.1152 - accuracy: 0.6022 - val_loss: 1.4224 - val_accuracy: 0.5042\n",
      "Epoch 27/100\n",
      "1407/1407 [==============================] - 12s 9ms/step - loss: 1.1084 - accuracy: 0.6056 - val_loss: 1.4263 - val_accuracy: 0.5014\n",
      "Epoch 28/100\n",
      "1407/1407 [==============================] - 12s 9ms/step - loss: 1.1035 - accuracy: 0.6076 - val_loss: 1.4209 - val_accuracy: 0.5056\n",
      "Epoch 29/100\n",
      "1407/1407 [==============================] - 12s 8ms/step - loss: 1.0986 - accuracy: 0.6084 - val_loss: 1.4221 - val_accuracy: 0.5064\n",
      "Epoch 30/100\n",
      "1407/1407 [==============================] - 12s 9ms/step - loss: 1.0944 - accuracy: 0.6106 - val_loss: 1.4296 - val_accuracy: 0.5048\n",
      "Epoch 31/100\n",
      "1407/1407 [==============================] - 12s 8ms/step - loss: 1.0897 - accuracy: 0.6124 - val_loss: 1.4268 - val_accuracy: 0.5042\n",
      "Epoch 32/100\n",
      "1407/1407 [==============================] - 12s 8ms/step - loss: 1.0847 - accuracy: 0.6154 - val_loss: 1.4328 - val_accuracy: 0.5008\n"
     ]
    },
    {
     "data": {
      "text/plain": [
       "<keras.callbacks.History at 0x7f2fe63cf0f0>"
      ]
     },
     "execution_count": 46,
     "metadata": {},
     "output_type": "execute_result"
    }
   ],
   "source": [
    "oc_cifar = build_cifar()\n",
    "oc_cifar.fit(\n",
    "    X_train, y_train, epochs=100,\n",
    "    validation_data=(X_valid, y_valid),\n",
    "    callbacks=[early_stopping_cb, one_cycle_cb]\n",
    ")"
   ]
  }
 ],
 "metadata": {
  "kernelspec": {
   "display_name": "Python 3.6.13 ('ml')",
   "language": "python",
   "name": "python3"
  },
  "language_info": {
   "codemirror_mode": {
    "name": "ipython",
    "version": 3
   },
   "file_extension": ".py",
   "mimetype": "text/x-python",
   "name": "python",
   "nbconvert_exporter": "python",
   "pygments_lexer": "ipython3",
   "version": "3.6.13"
  },
  "orig_nbformat": 4,
  "vscode": {
   "interpreter": {
    "hash": "741656c466d97e6cc8d57289f00cb22b14e49f976d4b6ab783fc4f7e7dcfa85a"
   }
  }
 },
 "nbformat": 4,
 "nbformat_minor": 2
}
