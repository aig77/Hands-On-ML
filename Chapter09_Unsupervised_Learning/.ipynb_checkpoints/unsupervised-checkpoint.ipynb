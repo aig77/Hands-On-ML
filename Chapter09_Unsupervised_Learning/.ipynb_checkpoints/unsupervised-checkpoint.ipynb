{
 "cells": [
  {
   "cell_type": "markdown",
   "id": "c8ab5ecd",
   "metadata": {},
   "source": [
    "# Unsupervised Learning Techniques"
   ]
  },
  {
   "cell_type": "markdown",
   "id": "21b374af",
   "metadata": {},
   "source": [
    "**Clustering**: to group similar instances together into *clusters*. Great tool for data analysis, customer segmentation, recommender systems, search engines, image segmentation, semi-supervised learning, dimensionality reduction, and more"
   ]
  },
  {
   "cell_type": "markdown",
   "id": "1f28fee4",
   "metadata": {},
   "source": [
    "**Anomoly Detection**: to learn what \"normal\" data looks like, and then use that to detect abnormal instances, such as defective items on a production line or a new trend in a time series"
   ]
  },
  {
   "cell_type": "markdown",
   "id": "6a7aca2f",
   "metadata": {},
   "source": [
    "**Density Estimation**: estimates the *probability density function* (PDF) of the random process that generated the dataset. It is commonly used for anomoly detection: instances located in very low-density regions are likely to be anomolies. It is also useful for data analysis and visualization. "
   ]
  },
  {
   "cell_type": "code",
   "execution_count": 30,
   "id": "9e65b3e6",
   "metadata": {},
   "outputs": [
    {
     "data": {
      "text/plain": [
       "<matplotlib.collections.PathCollection at 0x7fc00bc7bac0>"
      ]
     },
     "execution_count": 30,
     "metadata": {},
     "output_type": "execute_result"
    },
    {
     "data": {
      "image/png": "[encoded data removed]",
      "text/plain": [
       "<Figure size 432x288 with 1 Axes>"
      ]
     },
     "metadata": {
      "needs_background": "light"
     },
     "output_type": "display_data"
    }
   ],
   "source": [
    "import numpy as np\n",
    "import matplotlib.pyplot as plt\n",
    "from sklearn.datasets import make_blobs\n",
    "X, y = make_blobs(n_samples=100, n_features=2, centers=5, random_state=42)\n",
    "plt.scatter(X[:, 0], X[:, 1])"
   ]
  },
  {
   "cell_type": "markdown",
   "id": "e703b9bb",
   "metadata": {},
   "source": [
    "## Clustering"
   ]
  },
  {
   "cell_type": "markdown",
   "id": "8ea2f9a7",
   "metadata": {},
   "source": [
    "### K-Means"
   ]
  },
  {
   "cell_type": "code",
   "execution_count": 40,
   "id": "2878ecab",
   "metadata": {},
   "outputs": [],
   "source": [
    "from sklearn.cluster import KMeans\n",
    "k = 5\n",
    "kmeans = KMeans(n_clusters=k)\n",
    "y_pred = kmeans.fit_predict(X)"
   ]
  },
  {
   "cell_type": "markdown",
   "id": "9ab5a7c2",
   "metadata": {},
   "source": [
    "Note you have to specify the number of clusters *k* the algorithm must find. This is not always a simple question."
   ]
  },
  {
   "cell_type": "markdown",
   "id": "707ade86",
   "metadata": {},
   "source": [
    "Each instance is assigned to one of the 5 clusters. In clustering, an instance's *label* is the index of the cluster that this instance gets assigned to by the algorithm: this is not to be confused with the class labels in classification. `KMeans` instance preserves the labels of the instances it was trained on, available via the `labels_` instance variable"
   ]
  },
  {
   "cell_type": "code",
   "execution_count": 33,
   "id": "48598ece",
   "metadata": {},
   "outputs": [
    {
     "data": {
      "text/plain": [
       "array([2, 1, 0, 1, 3, 2, 4, 4, 4, 0, 0, 2, 1, 0, 4, 3, 1, 1, 2, 3, 3, 4,\n",
       "       0, 2, 3, 3, 1, 1, 1, 4, 2, 3, 1, 1, 1, 3, 0, 0, 0, 4, 2, 4, 4, 4,\n",
       "       3, 0, 0, 2, 3, 1, 1, 4, 4, 2, 4, 3, 1, 1, 0, 0, 4, 0, 3, 2, 3, 2,\n",
       "       1, 1, 2, 1, 3, 2, 2, 2, 1, 3, 4, 3, 1, 2, 1, 2, 3, 4, 3, 0, 3, 0,\n",
       "       0, 0, 3, 0, 2, 4, 2, 0, 2, 0, 4, 4], dtype=int32)"
      ]
     },
     "execution_count": 33,
     "metadata": {},
     "output_type": "execute_result"
    }
   ],
   "source": [
    "y_pred"
   ]
  },
  {
   "cell_type": "code",
   "execution_count": 34,
   "id": "1fd69f4f",
   "metadata": {},
   "outputs": [
    {
     "data": {
      "text/plain": [
       "True"
      ]
     },
     "execution_count": 34,
     "metadata": {},
     "output_type": "execute_result"
    }
   ],
   "source": [
    "y_pred is kmeans.labels_"
   ]
  },
  {
   "cell_type": "markdown",
   "id": "b3b71840",
   "metadata": {},
   "source": [
    "To look at the five centroids the algorithm found: `kmeans.cluster_centers_`"
   ]
  },
  {
   "cell_type": "code",
   "execution_count": 35,
   "id": "432217b7",
   "metadata": {},
   "outputs": [
    {
     "data": {
      "text/plain": [
       "array([[-2.87559086,  8.66758942],\n",
       "       [ 1.90144007,  4.22597687],\n",
       "       [-6.88732163, -6.84846391],\n",
       "       [-8.97484095,  7.55134937],\n",
       "       [ 4.73987759,  2.0192694 ]])"
      ]
     },
     "execution_count": 35,
     "metadata": {},
     "output_type": "execute_result"
    }
   ],
   "source": [
    ">>> kmeans.cluster_centers_"
   ]
  },
  {
   "cell_type": "markdown",
   "id": "162dbf06",
   "metadata": {},
   "source": [
    "Assign new instances to the cluster whose centroid is closest:"
   ]
  },
  {
   "cell_type": "code",
   "execution_count": 36,
   "id": "8d95c391",
   "metadata": {},
   "outputs": [
    {
     "data": {
      "text/plain": [
       "array([1, 4, 1, 1], dtype=int32)"
      ]
     },
     "execution_count": 36,
     "metadata": {},
     "output_type": "execute_result"
    }
   ],
   "source": [
    "X_new = np.array([[0, 2], [3, 2], [-3, 3], [-3, 2.5]])\n",
    "kmeans.predict(X_new)"
   ]
  },
  {
   "cell_type": "markdown",
   "id": "032d01a1",
   "metadata": {},
   "source": [
    "If you plot the cluster's decision boundaries, you get a Voronoi tessellation"
   ]
  },
  {
   "cell_type": "markdown",
   "id": "2a204628",
   "metadata": {},
   "source": [
    "Most instances are assigned to the appropriate cluster but a few were probably mislabeled (especially near the decision boundaries). K-Means does not behave very well when the blobs have very different diameters because all it cares about when assigning an instance to a cluster is the distance to the centroid"
   ]
  },
  {
   "cell_type": "markdown",
   "id": "343e93bf",
   "metadata": {},
   "source": [
    "Instead of assigning each instance to a single cluster, which is called *hard clustering*, it can be useful to give each instance a score per cluster, which is called *soft clustering*. The score can be the distance between the instance and the centroid; conversely, it can be a similarity score (or affinity), such as the Gaussian Radial Basis Function (chapter 5). In `KMeans`, the `transform()` method measures the distance from each instance to every centroid"
   ]
  },
  {
   "cell_type": "code",
   "execution_count": 37,
   "id": "668b8156",
   "metadata": {},
   "outputs": [
    {
     "data": {
      "text/plain": [
       "array([[ 7.26125137,  2.92753264, 11.21296182, 10.55297351,  4.73991676],\n",
       "       [ 8.88703081,  2.48229872, 13.26855089, 13.19902632,  1.73998429],\n",
       "       [ 5.66895471,  5.05243843, 10.58789455,  7.51089246,  7.80176503],\n",
       "       [ 6.16884405,  5.19645176, 10.12447762,  7.82399226,  7.75479252]])"
      ]
     },
     "execution_count": 37,
     "metadata": {},
     "output_type": "execute_result"
    }
   ],
   "source": [
    ">>> kmeans.transform(X_new)"
   ]
  },
  {
   "cell_type": "markdown",
   "id": "379004e1",
   "metadata": {},
   "source": [
    "If the dataset is high-dimensional, you can transform it to represent an instance's distance from every centroid. This way you end up with a k-dimensional daatset, an efficient nonlinear dimensionality reduction technique"
   ]
  },
  {
   "cell_type": "markdown",
   "id": "9b9d3f3d",
   "metadata": {},
   "source": [
    "#### The K-Means algorithm"
   ]
  },
  {
   "cell_type": "markdown",
   "id": "75cc1a27",
   "metadata": {},
   "source": [
    "How does the algorithm work? Place centroids randomly (e.g. picking *k* instances at random and using their locations as centroids). Then label the instances, update the centroids, label the instances, update the centroids, and so on until the centroids stop moving. The algorithm is guranteed to converge in a finite number of steps (usually quite small); it will not oscillate forever. "
   ]
  },
  {
   "cell_type": "markdown",
   "id": "4fb7caff",
   "metadata": {},
   "source": [
    "Although the algorithm is guranteed to converge, it may not converge to the right solution: whether it does or not depends on the centroid initialization. "
   ]
  },
  {
   "cell_type": "markdown",
   "id": "1d2d7a0b",
   "metadata": {},
   "source": [
    "Let's look at how to mitigate this risk by improving the centroid initialization"
   ]
  },
  {
   "cell_type": "markdown",
   "id": "8516e0fc",
   "metadata": {},
   "source": [
    "#### Centroid initialization methods"
   ]
  },
  {
   "cell_type": "markdown",
   "id": "f88a4aea",
   "metadata": {},
   "source": [
    "If you happen to know where the centroids should be (e.g if you ran another clustering algorithm earlier), then you can set the `init` hyperparameter to a NumPy array containing the list of centroids, and set `n_init` to 1"
   ]
  },
  {
   "cell_type": "code",
   "execution_count": 38,
   "id": "53bfff7e",
   "metadata": {},
   "outputs": [],
   "source": [
    "good_init = np.array([[-3,3], [-3,2], [-3,1], [-1,2], [0,2]])\n",
    "kmeans = KMeans(n_clusters=5, init=good_init, n_init=1)"
   ]
  },
  {
   "cell_type": "markdown",
   "id": "ca38620d",
   "metadata": {},
   "source": [
    "Another solution is to run the algorithm multiple times with different random initializations and keep the best solution. The number of random initializations is controlled by the `n_init` hyperparameter: by default it is equal to 10. How does it know which is the best? It uses a performance metric called the model's *inertia*, which is the mean squared distance between each instance and its closest centroid. `KMeans` runs the algorithm `n_init` times and keeps the model with the lowest intertia. "
   ]
  },
  {
   "cell_type": "code",
   "execution_count": 41,
   "id": "fa2b8e2d",
   "metadata": {},
   "outputs": [
    {
     "data": {
      "text/plain": [
       "159.83755106823412"
      ]
     },
     "execution_count": 41,
     "metadata": {},
     "output_type": "execute_result"
    }
   ],
   "source": [
    ">>> kmeans.inertia_"
   ]
  },
  {
   "cell_type": "markdown",
   "id": "7ab16646",
   "metadata": {},
   "source": [
    "Negative inertia"
   ]
  },
  {
   "cell_type": "code",
   "execution_count": 42,
   "id": "ff3e8a07",
   "metadata": {},
   "outputs": [
    {
     "data": {
      "text/plain": [
       "-159.83755106823412"
      ]
     },
     "execution_count": 42,
     "metadata": {},
     "output_type": "execute_result"
    }
   ],
   "source": [
    ">>> kmeans.score(X)"
   ]
  },
  {
   "cell_type": "markdown",
   "id": "e47b5f72",
   "metadata": {},
   "source": [
    "Introduced a smarter initialization step that tends to select centroids that are distant from one another, and this improvement makes the K-Means algorithm much less likely to converge to a suboptimal solution (K-Means++)."
   ]
  },
  {
   "cell_type": "markdown",
   "id": "00d251a4",
   "metadata": {},
   "source": [
    "#### Accelerated K-Means and mini-batch K-Means"
   ]
  },
  {
   "cell_type": "markdown",
   "id": "e13a17a0",
   "metadata": {},
   "source": [
    "Charles Elkan accelerated the algorithm by avoiding many unnecessary distance calculations. He exploited the triangle inequality (i.e that a straight line is always the shortest distance between two points)"
   ]
  },
  {
   "cell_type": "markdown",
   "id": "35be60a4",
   "metadata": {},
   "source": [
    "Another important variant proposed by David Sculley. Instead of using the full dataset at each iteration, the algorithm is capable of using mini-batches, moving the centroids just slightly at each iteration. This speeds up the algorithm typically by a factor of 3 or 4 and makes it possible to cluster huge datasets that do not fit in memory."
   ]
  },
  {
   "cell_type": "code",
   "execution_count": 28,
   "id": "0980d85e",
   "metadata": {},
   "outputs": [
    {
     "data": {
      "text/html": [
       "<style>#sk-container-id-1 {color: black;background-color: white;}#sk-container-id-1 pre{padding: 0;}#sk-container-id-1 div.sk-toggleable {background-color: white;}#sk-container-id-1 label.sk-toggleable__label {cursor: pointer;display: block;width: 100%;margin-bottom: 0;padding: 0.3em;box-sizing: border-box;text-align: center;}#sk-container-id-1 label.sk-toggleable__label-arrow:before {content: \"▸\";float: left;margin-right: 0.25em;color: #696969;}#sk-container-id-1 label.sk-toggleable__label-arrow:hover:before {color: black;}#sk-container-id-1 div.sk-estimator:hover label.sk-toggleable__label-arrow:before {color: black;}#sk-container-id-1 div.sk-toggleable__content {max-height: 0;max-width: 0;overflow: hidden;text-align: left;background-color: #f0f8ff;}#sk-container-id-1 div.sk-toggleable__content pre {margin: 0.2em;color: black;border-radius: 0.25em;background-color: #f0f8ff;}#sk-container-id-1 input.sk-toggleable__control:checked~div.sk-toggleable__content {max-height: 200px;max-width: 100%;overflow: auto;}#sk-container-id-1 input.sk-toggleable__control:checked~label.sk-toggleable__label-arrow:before {content: \"▾\";}#sk-container-id-1 div.sk-estimator input.sk-toggleable__control:checked~label.sk-toggleable__label {background-color: #d4ebff;}#sk-container-id-1 div.sk-label input.sk-toggleable__control:checked~label.sk-toggleable__label {background-color: #d4ebff;}#sk-container-id-1 input.sk-hidden--visually {border: 0;clip: rect(1px 1px 1px 1px);clip: rect(1px, 1px, 1px, 1px);height: 1px;margin: -1px;overflow: hidden;padding: 0;position: absolute;width: 1px;}#sk-container-id-1 div.sk-estimator {font-family: monospace;background-color: #f0f8ff;border: 1px dotted black;border-radius: 0.25em;box-sizing: border-box;margin-bottom: 0.5em;}#sk-container-id-1 div.sk-estimator:hover {background-color: #d4ebff;}#sk-container-id-1 div.sk-parallel-item::after {content: \"\";width: 100%;border-bottom: 1px solid gray;flex-grow: 1;}#sk-container-id-1 div.sk-label:hover label.sk-toggleable__label {background-color: #d4ebff;}#sk-container-id-1 div.sk-serial::before {content: \"\";position: absolute;border-left: 1px solid gray;box-sizing: border-box;top: 0;bottom: 0;left: 50%;z-index: 0;}#sk-container-id-1 div.sk-serial {display: flex;flex-direction: column;align-items: center;background-color: white;padding-right: 0.2em;padding-left: 0.2em;position: relative;}#sk-container-id-1 div.sk-item {position: relative;z-index: 1;}#sk-container-id-1 div.sk-parallel {display: flex;align-items: stretch;justify-content: center;background-color: white;position: relative;}#sk-container-id-1 div.sk-item::before, #sk-container-id-1 div.sk-parallel-item::before {content: \"\";position: absolute;border-left: 1px solid gray;box-sizing: border-box;top: 0;bottom: 0;left: 50%;z-index: -1;}#sk-container-id-1 div.sk-parallel-item {display: flex;flex-direction: column;z-index: 1;position: relative;background-color: white;}#sk-container-id-1 div.sk-parallel-item:first-child::after {align-self: flex-end;width: 50%;}#sk-container-id-1 div.sk-parallel-item:last-child::after {align-self: flex-start;width: 50%;}#sk-container-id-1 div.sk-parallel-item:only-child::after {width: 0;}#sk-container-id-1 div.sk-dashed-wrapped {border: 1px dashed gray;margin: 0 0.4em 0.5em 0.4em;box-sizing: border-box;padding-bottom: 0.4em;background-color: white;}#sk-container-id-1 div.sk-label label {font-family: monospace;font-weight: bold;display: inline-block;line-height: 1.2em;}#sk-container-id-1 div.sk-label-container {text-align: center;}#sk-container-id-1 div.sk-container {/* jupyter's `normalize.less` sets `[hidden] { display: none; }` but bootstrap.min.css set `[hidden] { display: none !important; }` so we also need the `!important` here to be able to override the default hidden behavior on the sphinx rendered scikit-learn.org. See: https://github.com/scikit-learn/scikit-learn/issues/21755 */display: inline-block !important;position: relative;}#sk-container-id-1 div.sk-text-repr-fallback {display: none;}</style><div id=\"sk-container-id-1\" class=\"sk-top-container\"><div class=\"sk-text-repr-fallback\"><pre>MiniBatchKMeans(n_clusters=5)</pre><b>In a Jupyter environment, please rerun this cell to show the HTML representation or trust the notebook. <br />On GitHub, the HTML representation is unable to render, please try loading this page with nbviewer.org.</b></div><div class=\"sk-container\" hidden><div class=\"sk-item\"><div class=\"sk-estimator sk-toggleable\"><input class=\"sk-toggleable__control sk-hidden--visually\" id=\"sk-estimator-id-1\" type=\"checkbox\" checked><label for=\"sk-estimator-id-1\" class=\"sk-toggleable__label sk-toggleable__label-arrow\">MiniBatchKMeans</label><div class=\"sk-toggleable__content\"><pre>MiniBatchKMeans(n_clusters=5)</pre></div></div></div></div></div>"
      ],
      "text/plain": [
       "MiniBatchKMeans(n_clusters=5)"
      ]
     },
     "execution_count": 28,
     "metadata": {},
     "output_type": "execute_result"
    }
   ],
   "source": [
    "from sklearn.cluster import MiniBatchKMeans\n",
    "\n",
    "minibatch_kmeans = MiniBatchKMeans(n_clusters=5)\n",
    "minibatch_kmeans.fit(X)"
   ]
  },
  {
   "cell_type": "markdown",
   "id": "9f706f38",
   "metadata": {},
   "source": [
    "Although the Mini-batch K-Means is much faster than the regular version, its inertia is generally slightly worse, especially as the number of clusters increases. "
   ]
  },
  {
   "cell_type": "markdown",
   "id": "9731db28",
   "metadata": {},
   "source": [
    "#### Finding the optimal number of clusters"
   ]
  },
  {
   "cell_type": "markdown",
   "id": "33dc0937",
   "metadata": {},
   "source": [
    "It is important to choose the right number of clusters for the best model possible. You might be thinking, choose the model with the lowest inertia. Unfortunately, it is not that simple. The inertia is not a good performance metric when trying to choose *k* because it keeps getting lower as we increase *k*. The more clusters there are, the closer each instance will be to its closest centroid, and therefore the lower the inertia will be. "
   ]
  },
  {
   "cell_type": "markdown",
   "id": "ed976f9d",
   "metadata": {},
   "source": [
    "A coarse way of finding the optimal *k* is plotting the inertia as a function of *k*. The inertia will drop quickly as we increase *k* up to a certain value. Then it decreases much more slowly as we keep increasing *k*. The curve creates an arm shape with an \"elbow\" at a certain k value. If we didn't know better, this would be a good choice: any lower value would be dramatic, while any higher value would not help much."
   ]
  },
  {
   "cell_type": "markdown",
   "id": "54fc2c0c",
   "metadata": {},
   "source": [
    "A more precise approach is to use the *silhouette score*, which is the mean *silhouette coefficient* over all the instances. An instance's silhouette coefficient is equal to (b-a) / max(a,b), where a is the mean distance to the other instances in the same cluster (ie the mean intra-cluster distance) and b is the mean nearest-cluster distance (ie the mean distance to the instances of the next closest cluster, defined as the one that minimizes b, excluding the instance's own cluster). The silhouette coefficient can vary between -1 and 1. A coefficient close to 1 means the instance is well inside its cluster and far from other clusters, a coefficient of 0 means that it is close to a cluster boundary, while a coefficient of -1 means that the instance may have been assigned to the wrong boundary. "
   ]
  },
  {
   "cell_type": "code",
   "execution_count": 43,
   "id": "a5dffdb5",
   "metadata": {},
   "outputs": [
    {
     "data": {
      "text/plain": [
       "0.6944121266631447"
      ]
     },
     "execution_count": 43,
     "metadata": {},
     "output_type": "execute_result"
    }
   ],
   "source": [
    ">>> from sklearn.metrics import silhouette_score\n",
    ">>> silhouette_score(X, kmeans.labels_)"
   ]
  },
  {
   "cell_type": "markdown",
   "id": "22eae63d",
   "metadata": {},
   "source": [
    "A more informative visualization is obtained when you plot every instance's silhouette coefficient, sorted by the cluster they are assigned to and by the value of the coefficient. This is called a *silhouette diagram*. Each diagram contains one knife shape per cluster. The shape's height indicates the number of instances the cluster contains, and its width represents the sorted silhouette coefficients of the instances in the cluster (wider is better). The dashed line indicates the mean silhouette coefficient."
   ]
  },
  {
   "cell_type": "markdown",
   "id": "a6db48d9",
   "metadata": {},
   "source": [
    "### Limits of K-Means"
   ]
  },
  {
   "cell_type": "markdown",
   "id": "767a8861",
   "metadata": {},
   "source": [
    "Despite its many merits, K-Means is not perfect. It is necessary to run the algorithm several times to avoid suboptimal solutions, plus you need to specify the number of clusters. Moreover, it does not behave very well when the clusters have varying sizes, different densities, or nonspherical shapes. "
   ]
  },
  {
   "cell_type": "markdown",
   "id": "b5ac7dfe",
   "metadata": {},
   "source": [
    "Depending on the data, different clustering algorithms may perform better. E.g on elliptical clusters, Gaussian mixture models work better. "
   ]
  },
  {
   "cell_type": "code",
   "execution_count": null,
   "id": "b3326222",
   "metadata": {},
   "outputs": [],
   "source": []
  }
 ],
 "metadata": {
  "kernelspec": {
   "display_name": "Python 3 (ipykernel)",
   "language": "python",
   "name": "python3"
  },
  "language_info": {
   "codemirror_mode": {
    "name": "ipython",
    "version": 3
   },
   "file_extension": ".py",
   "mimetype": "text/x-python",
   "name": "python",
   "nbconvert_exporter": "python",
   "pygments_lexer": "ipython3",
   "version": "3.10.4"
  }
 },
 "nbformat": 4,
 "nbformat_minor": 5
}
